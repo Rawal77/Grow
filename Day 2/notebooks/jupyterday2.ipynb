{
 "cells": [
  {
   "cell_type": "markdown",
   "id": "bdec59c6",
   "metadata": {},
   "source": [
    "# Overview of Python data types"
   ]
  },
  {
   "cell_type": "markdown",
   "id": "8c7a1412",
   "metadata": {},
   "source": [
    "### 1 Numeric Data Types in Python"
   ]
  },
  {
   "cell_type": "code",
   "execution_count": 4,
   "id": "dc198aed",
   "metadata": {},
   "outputs": [
    {
     "name": "stdout",
     "output_type": "stream",
     "text": [
      "9 is of <class 'int'>\n",
      "ram is of <class 'str'>\n",
      "(2+5j) is of <class 'complex'>\n"
     ]
    }
   ],
   "source": [
    "num = 9\n",
    "string = 'ram'\n",
    "complex = 2+5j\n",
    "\n",
    "print(f\"{num} is of {type(num)}\")\n",
    "print(f\"{string} is of {type(string)}\")\n",
    "print(f\"{complex} is of {type(complex)}\")"
   ]
  },
  {
   "cell_type": "markdown",
   "id": "5984d9d2",
   "metadata": {},
   "source": [
    "### 2. Sequence Data Types in Python"
   ]
  },
  {
   "cell_type": "code",
   "execution_count": 5,
   "id": "752de324",
   "metadata": {},
   "outputs": [
    {
     "name": "stdout",
     "output_type": "stream",
     "text": [
      "Ram is <class 'str'>\n",
      "first character  R\n",
      "last character  m\n",
      "My name is Ram\n",
      "Hello everybody!!! My name is  Ram How are you doing?\n"
     ]
    }
   ],
   "source": [
    "# Strings in Python\n",
    "\n",
    "\n",
    "name = \"Ram\"\n",
    "template = \"My name is \"\n",
    "template2 = \"How are you doing?\"\n",
    "print(f\"{name} is {type(name)}\")\n",
    "\n",
    "# slicing and formatting\n",
    "\n",
    "print(f\"first character \",name[0])\n",
    "print(f\"last character \",name[-1])\n",
    "\n",
    "# concatenation and formatting\n",
    "print(template + name)\n",
    "\n",
    "print(f\"Hello everybody!!! {template} {name} {template2}\")\n"
   ]
  },
  {
   "cell_type": "code",
   "execution_count": 6,
   "id": "acecda69",
   "metadata": {},
   "outputs": [
    {
     "name": "stdout",
     "output_type": "stream",
     "text": [
      "['Ram', 'Shyam', 'Hari', 'Gita', 'Sita']\n",
      "Hari\n",
      "['Hari', 'Gita', 'Sita']\n",
      "['Ram', 'Shyam', 'Hari', 'Gita']\n",
      "Before list  ['Ram', 'Shyam', 'Hari', 'Gita', 'Sita']\n",
      "After list ['Ram', 'Shyam', 'Hari', 'Gita', 'Sita', 'Rita']\n",
      "Before list  ['Ram', 'Shyam', 'Hari', 'Gita', 'Sita', 'Rita']\n",
      "After list ['Ram', 'Shyam', 'Hari', 'Gita', 'Rita']\n"
     ]
    }
   ],
   "source": [
    "# List in python\n",
    "\n",
    "arr = [\"Ram\",\"Shyam\",\"Hari\",\"Gita\",\"Sita\"]\n",
    "print(arr)\n",
    "\n",
    "# Accessing list in python\n",
    "\n",
    "print(arr[2]) # Hari\n",
    "\n",
    "print(arr[2:]) # ['Hari', 'Gita', 'Sita']\n",
    "\n",
    "print(arr[:-1]) # Reverses ['Ram', 'Shyam', 'Hari', 'Gita']\n",
    "\n",
    "# Adding list in python\n",
    "\n",
    "print(\"Before list \",arr)\n",
    "arr.append(\"Rita\")\n",
    "print(\"After list\",arr)\n",
    "\n",
    "\n",
    "# Removing list in python\n",
    "\n",
    "print(\"Before list \",arr)\n",
    "arr.remove(\"Sita\")\n",
    "print(\"After list\",arr)\n"
   ]
  },
  {
   "cell_type": "code",
   "execution_count": 7,
   "id": "6d9a4241",
   "metadata": {},
   "outputs": [
    {
     "name": "stdout",
     "output_type": "stream",
     "text": [
      "(17, 18, 19) is of <class 'tuple'>\n",
      "18\n",
      "19\n",
      "(18, 19)\n"
     ]
    }
   ],
   "source": [
    "# Tuples in Python\n",
    "\n",
    "tup = (17,18,19)\n",
    "print(f\"{tup} is of {type(tup)}\")\n",
    "\n",
    "# Accessing Tuple items\n",
    "print(tup[1]) # 18\n",
    "\n",
    "print(tup[-1]) #19\n",
    "\n",
    "print(tup[1:3]) # 18 19\n"
   ]
  },
  {
   "cell_type": "code",
   "execution_count": 8,
   "id": "7e5b0839",
   "metadata": {},
   "outputs": [
    {
     "name": "stdout",
     "output_type": "stream",
     "text": [
      "<class 'bool'>\n"
     ]
    }
   ],
   "source": [
    "# Boolean Data type in python\n",
    "\n",
    "print(type(True))"
   ]
  },
  {
   "cell_type": "code",
   "execution_count": 9,
   "id": "509fcb7c",
   "metadata": {},
   "outputs": [
    {
     "name": "stdout",
     "output_type": "stream",
     "text": [
      "<class 'set'>\n",
      "Ram\n",
      "Gita\n",
      "Shyam\n"
     ]
    }
   ],
   "source": [
    "# Set in python\n",
    "\n",
    "s1 = set([\"Ram\",\"Shyam\",\"Gita\"])\n",
    "print(type(s1))\n",
    "\n",
    "\n",
    "# Accessing set items\n",
    "for i in s1:\n",
    "    print(i)"
   ]
  },
  {
   "cell_type": "code",
   "execution_count": 10,
   "id": "1489561e",
   "metadata": {},
   "outputs": [
    {
     "name": "stdout",
     "output_type": "stream",
     "text": [
      "Ram\n",
      "dict_keys(['name', 'age', 'location'])\n",
      "dict_values(['Ram', 25, 'Nepal'])\n"
     ]
    }
   ],
   "source": [
    "# Dictionary in python\n",
    "\n",
    "d = {\n",
    "   \"name\": \"Ram\",\n",
    "    \"age\": 25,\n",
    "    \"location\": \"Nepal\"\n",
    "}\n",
    "\n",
    "# Accessing values\n",
    "print(d[\"name\"])\n",
    "print(d.keys())\n",
    "print(d.values())"
   ]
  },
  {
   "cell_type": "code",
   "execution_count": 11,
   "id": "d3e6ef88",
   "metadata": {},
   "outputs": [
    {
     "name": "stdout",
     "output_type": "stream",
     "text": [
      "<class 'dict'>\n",
      "Cricket\n",
      "2014\n",
      "Dictionary before using del keyword\n",
      "{'Name': 'Ram', 'Age': 12, 'Hobbies': ['Cricket', 'Football'], 'Education': {'Bachelors': 2018, 'Plus Two': 2014}}\n",
      "Dictionary after using del keyword\n",
      "{'Name': 'Ram', 'Age': 12, 'Education': {'Bachelors': 2018, 'Plus Two': 2014}}\n"
     ]
    }
   ],
   "source": [
    "# Mixed Data types in dictonaries\n",
    "\n",
    "student = {\n",
    "    \"Name\" : \"Ram\",\n",
    "    \"Age\" : 12,\n",
    "    \"Hobbies\" : [\"Cricket\",\"Football\"],\n",
    "    \"Education\" : {\n",
    "        \"Bachelors\" : 2018,\n",
    "        \"Plus Two\" : 2014\n",
    "    }\n",
    "}\n",
    "\n",
    "\n",
    "print(type(student))\n",
    "print(student[\"Hobbies\"][0])\n",
    "print(student[\"Education\"][\"Plus Two\"])\n",
    "\n",
    "print(\"Dictionary before using del keyword\")\n",
    "print(student)\n",
    "\n",
    "del student[\"Hobbies\"]\n",
    "\n",
    "print(\"Dictionary after using del keyword\")\n",
    "print(student)\n"
   ]
  },
  {
   "cell_type": "markdown",
   "id": "1e6f5295",
   "metadata": {},
   "source": [
    "### Implicit and explicit type conversion in python"
   ]
  },
  {
   "cell_type": "code",
   "execution_count": null,
   "id": "da40a8ee",
   "metadata": {},
   "outputs": [
    {
     "name": "stdout",
     "output_type": "stream",
     "text": [
      "<class 'float'>\n",
      "<class 'int'>\n"
     ]
    }
   ],
   "source": [
    "# Implicit type conversion  ----> Automatically performed by Python\n",
    "\n",
    "a = 5\n",
    "b = 6.96\n",
    "print(type(a+b))\n",
    "\n",
    "\n",
    "# Explicit type conversion -----> Manually performed\n",
    "a = int(\"10\")\n",
    "print(type(a))"
   ]
  }
 ],
 "metadata": {
  "kernelspec": {
   "display_name": "Python 3",
   "language": "python",
   "name": "python3"
  },
  "language_info": {
   "codemirror_mode": {
    "name": "ipython",
    "version": 3
   },
   "file_extension": ".py",
   "mimetype": "text/x-python",
   "name": "python",
   "nbconvert_exporter": "python",
   "pygments_lexer": "ipython3",
   "version": "3.9.0"
  }
 },
 "nbformat": 4,
 "nbformat_minor": 5
}
