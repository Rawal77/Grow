{
 "cells": [
  {
   "cell_type": "markdown",
   "id": "7a157bb9",
   "metadata": {},
   "source": [
    "# Conditional Statements"
   ]
  },
  {
   "cell_type": "code",
   "execution_count": null,
   "id": "2fd43033",
   "metadata": {},
   "outputs": [
    {
     "name": "stdout",
     "output_type": "stream",
     "text": [
      "One is eligible to vote\n"
     ]
    }
   ],
   "source": [
    "# if conditional statement\n",
    "\n",
    "age = int(input(\"Enter your age\"))\n",
    "\n",
    "if age >= 18: print(\"One is eligible to vote\")"
   ]
  },
  {
   "cell_type": "code",
   "execution_count": 4,
   "id": "f34dbfb9",
   "metadata": {},
   "outputs": [
    {
     "name": "stdout",
     "output_type": "stream",
     "text": [
      "You have passed with 41%\n"
     ]
    }
   ],
   "source": [
    "# if else conditional statement\n",
    "\n",
    "percentage = int(input(\"Enter you percentage:\"))\n",
    "\n",
    "if percentage >= 40:\n",
    "    print(f\"You have passed with {percentage}%\")\n",
    "else:\n",
    "    print(f\"You have failed with {percentage}%\")"
   ]
  },
  {
   "cell_type": "code",
   "execution_count": null,
   "id": "d91ccfcd",
   "metadata": {},
   "outputs": [
    {
     "name": "stdout",
     "output_type": "stream",
     "text": [
      "30000 is below average\n"
     ]
    }
   ],
   "source": [
    "# elif statement in python\n",
    "\n",
    "salary = int(input(\"Enter your salary\"))\n",
    "\n",
    "if salary > 100000:\n",
    "    print(f\"{salary} is above average\")\n",
    "elif salary >50000 and salary <= 100000:\n",
    "    print(f\"{salary} is average\")\n",
    "else:\n",
    "    print(f\"{salary} is below average\")\n",
    "    "
   ]
  },
  {
   "cell_type": "code",
   "execution_count": 12,
   "id": "91a1ef7e",
   "metadata": {},
   "outputs": [
    {
     "name": "stdout",
     "output_type": "stream",
     "text": [
      "You are eligible to vote\n"
     ]
    }
   ],
   "source": [
    "# Nested if-else conditions\n",
    "\n",
    "is_registered = int(input(\"Enter if the vote is registed as 1 or else 0\"))\n",
    "age = int(input(\"Enter the age of voter\"))\n",
    "\n",
    "if is_registered:\n",
    "    if age >=18:\n",
    "        print(f\"You are eligible to vote\")\n",
    "    else:\n",
    "        print(f\"You are not eligible to vote\")\n",
    "else:\n",
    "    print(f\"You should be registered to vote\")"
   ]
  },
  {
   "cell_type": "code",
   "execution_count": 1,
   "id": "61a635b1",
   "metadata": {},
   "outputs": [
    {
     "name": "stdout",
     "output_type": "stream",
     "text": [
      "Given number 7 is odd\n"
     ]
    }
   ],
   "source": [
    "# Program to check whether the given number is odd or even using coditional statement\n",
    "\n",
    "num = int(input(\"Enter any number\"))\n",
    "\n",
    "if num%2== 0:\n",
    "    print(f\"Given number {num} is even\")\n",
    "else:\n",
    "    print(f\"Given number {num} is odd\")"
   ]
  },
  {
   "cell_type": "markdown",
   "id": "1eccaeff",
   "metadata": {},
   "source": [
    "### Loops in python "
   ]
  },
  {
   "cell_type": "code",
   "execution_count": 14,
   "id": "0850ca97",
   "metadata": {},
   "outputs": [
    {
     "name": "stdout",
     "output_type": "stream",
     "text": [
      "Hello ram\n",
      "Hello ram\n",
      "Hello ram\n",
      "Hello ram\n",
      "Hello ram\n",
      "Hello ram\n",
      "Hello ram\n",
      "Hello ram\n",
      "Hello ram\n",
      "Hello ram\n"
     ]
    }
   ],
   "source": [
    "# While loop\n",
    "\n",
    "count =1 \n",
    "\n",
    "while count<=10:\n",
    "    print(\"Hello ram\")\n",
    "    count += 1"
   ]
  },
  {
   "cell_type": "code",
   "execution_count": 15,
   "id": "42f6d125",
   "metadata": {},
   "outputs": [
    {
     "name": "stdout",
     "output_type": "stream",
     "text": [
      "10\n",
      "9\n",
      "8\n",
      "7\n",
      "6\n",
      "5\n",
      "4\n",
      "3\n",
      "2\n",
      "1\n"
     ]
    }
   ],
   "source": [
    "# reversing from 10 to 1 using while loop\n",
    "\n",
    "count = 10\n",
    "while count>=1:\n",
    "    print(count)\n",
    "    count -= 1\n"
   ]
  },
  {
   "cell_type": "code",
   "execution_count": null,
   "id": "9c648ef1",
   "metadata": {},
   "outputs": [
    {
     "name": "stdout",
     "output_type": "stream",
     "text": [
      "0\n",
      "1\n",
      "2\n",
      "3\n",
      "4\n",
      "5\n",
      "6\n",
      "7\n",
      "8\n",
      "9\n"
     ]
    }
   ],
   "source": [
    "# for loop in python \n",
    "\n",
    "\n",
    "# printing 1 to 10\n",
    "\n",
    "for i in range(1,11):\n",
    "    print(i)"
   ]
  },
  {
   "cell_type": "code",
   "execution_count": 2,
   "id": "778ef21d",
   "metadata": {},
   "outputs": [
    {
     "name": "stdout",
     "output_type": "stream",
     "text": [
      "1\n",
      "2\n",
      "3\n",
      "4\n",
      "5\n",
      "6\n",
      "7\n",
      "8\n",
      "9\n",
      "10\n"
     ]
    }
   ],
   "source": [
    "# for loop that iterates through a list of numbers and prints each one\n",
    "\n",
    "arr = [1,2,3,4,5,6,7,8,9,10]\n",
    "\n",
    "for i in arr:\n",
    "    print(i)"
   ]
  },
  {
   "cell_type": "code",
   "execution_count": null,
   "id": "b6da3730",
   "metadata": {},
   "outputs": [
    {
     "name": "stdout",
     "output_type": "stream",
     "text": [
      "1\n",
      "3\n",
      "5\n",
      "7\n",
      "9\n",
      "11\n",
      "13\n",
      "15\n",
      "17\n",
      "19\n",
      "21\n",
      "23\n",
      "25\n",
      "27\n",
      "29\n",
      "31\n",
      "33\n",
      "35\n",
      "37\n",
      "39\n",
      "41\n",
      "43\n",
      "45\n",
      "47\n",
      "49\n"
     ]
    }
   ],
   "source": [
    "# even numbers from 1 to 51\n",
    "\n",
    "for i in range(1,51,2):\n",
    "    print(i)"
   ]
  },
  {
   "cell_type": "code",
   "execution_count": 26,
   "id": "d1ff18e1",
   "metadata": {},
   "outputs": [
    {
     "name": "stdout",
     "output_type": "stream",
     "text": [
      "7*1=7\n",
      "7*2=14\n",
      "7*3=21\n",
      "7*4=28\n",
      "7*5=35\n",
      "7*6=42\n",
      "7*7=49\n",
      "7*8=56\n",
      "7*9=63\n",
      "7*10=70\n"
     ]
    }
   ],
   "source": [
    "# Creating multiplication table of given number using for loop\n",
    "\n",
    "num = int(input(\"Provide the number that you want to generate multiplication table of \"))\n",
    "\n",
    "for i in range(1,11):\n",
    "    print(f\"{num}*{i}={num*i}\")"
   ]
  },
  {
   "cell_type": "code",
   "execution_count": null,
   "id": "c34b5996",
   "metadata": {},
   "outputs": [],
   "source": []
  }
 ],
 "metadata": {
  "kernelspec": {
   "display_name": "Python 3",
   "language": "python",
   "name": "python3"
  },
  "language_info": {
   "codemirror_mode": {
    "name": "ipython",
    "version": 3
   },
   "file_extension": ".py",
   "mimetype": "text/x-python",
   "name": "python",
   "nbconvert_exporter": "python",
   "pygments_lexer": "ipython3",
   "version": "3.9.0"
  }
 },
 "nbformat": 4,
 "nbformat_minor": 5
}
