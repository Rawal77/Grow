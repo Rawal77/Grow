{
 "cells": [
  {
   "cell_type": "markdown",
   "id": "37ba2651",
   "metadata": {},
   "source": [
    "# Functions in python"
   ]
  },
  {
   "cell_type": "code",
   "execution_count": 8,
   "id": "28cb25b2",
   "metadata": {},
   "outputs": [
    {
     "name": "stdout",
     "output_type": "stream",
     "text": [
      "Hi everyone, how are you doing\n"
     ]
    }
   ],
   "source": [
    "# Function with No Arguments and No Return\n",
    "\n",
    "def greeting():\n",
    "    print(\"Hi everyone, how are you doing\")\n",
    "     \n",
    "greeting()\n"
   ]
  },
  {
   "cell_type": "code",
   "execution_count": 9,
   "id": "736a3bf4",
   "metadata": {},
   "outputs": [
    {
     "name": "stdout",
     "output_type": "stream",
     "text": [
      "Hi Ram\n"
     ]
    }
   ],
   "source": [
    "#  Function with Arguments but No Return\n",
    "\n",
    "def greeting(name):\n",
    "    print(f\"Hi {name}\")\n",
    "    \n",
    "greeting(\"Ram\")"
   ]
  },
  {
   "cell_type": "code",
   "execution_count": 10,
   "id": "b5d5b127",
   "metadata": {},
   "outputs": [
    {
     "name": "stdout",
     "output_type": "stream",
     "text": [
      "Sum of two number is 5\n"
     ]
    }
   ],
   "source": [
    "# Function with Arguments and a Return Value\n",
    "\n",
    "def add(a,b):\n",
    "    return a+b\n",
    "\n",
    "print(f\"Sum of two number is {add(2,3)}\")"
   ]
  },
  {
   "cell_type": "code",
   "execution_count": 11,
   "id": "af185fe0",
   "metadata": {},
   "outputs": [
    {
     "name": "stdout",
     "output_type": "stream",
     "text": [
      "Hi Ram\n",
      "Hi Shyam\n"
     ]
    }
   ],
   "source": [
    "# Function with Default Argument\n",
    "\n",
    "def greeting(name = \"Ram\"):\n",
    "    print(f\"Hi {name}\")\n",
    "    \n",
    "greeting()\n",
    "greeting(\"Shyam\")"
   ]
  },
  {
   "cell_type": "markdown",
   "id": "cf3f777c",
   "metadata": {},
   "source": [
    "### local & Global Variables"
   ]
  },
  {
   "cell_type": "code",
   "execution_count": 12,
   "id": "dec8daeb",
   "metadata": {},
   "outputs": [
    {
     "name": "stdout",
     "output_type": "stream",
     "text": [
      "Hello from inside the function!\n"
     ]
    }
   ],
   "source": [
    "# local variables\n",
    "\n",
    "def show_message():\n",
    "    message = \"Hello from inside the function!\"      # This is a local variable\n",
    "    print(message)\n",
    "\n",
    "show_message()\n"
   ]
  },
  {
   "cell_type": "code",
   "execution_count": 14,
   "id": "5049fa9b",
   "metadata": {},
   "outputs": [
    {
     "name": "stdout",
     "output_type": "stream",
     "text": [
      "Count inside function: 10\n"
     ]
    }
   ],
   "source": [
    "# Global variable\n",
    "\n",
    "count = 10  # This is a Global variable\n",
    "\n",
    "def show_count():\n",
    "    print(\"Count inside function:\", count)  \n",
    "\n",
    "show_count()"
   ]
  },
  {
   "cell_type": "code",
   "execution_count": 20,
   "id": "d7f1cf5f",
   "metadata": {},
   "outputs": [
    {
     "name": "stdout",
     "output_type": "stream",
     "text": [
      "Inside function - x(local):,9\n",
      "Outside function - x (global): 5\n"
     ]
    }
   ],
   "source": [
    "x = 5  # Global variable\n",
    "\n",
    "def my_function():\n",
    "   x = 8 # Local variable\n",
    "   x += 1\n",
    "   return x\n",
    "\n",
    "\n",
    "print(f\"Inside function - x(local):,{my_function()}\")\n",
    "print(\"Outside function - x (global):\", x)"
   ]
  },
  {
   "cell_type": "code",
   "execution_count": 22,
   "id": "fca0642b",
   "metadata": {},
   "outputs": [
    {
     "name": "stdout",
     "output_type": "stream",
     "text": [
      "Fibonacci sequence:\n",
      "0\n",
      "1\n",
      "1\n",
      "2\n",
      "3\n",
      "5\n",
      "8\n"
     ]
    }
   ],
   "source": [
    "# Recursive function to generate fibonnaci series using python\n",
    "\n",
    "def fibonacci(n):\n",
    "    if n <= 1:\n",
    "        return n\n",
    "    else:\n",
    "        return fibonacci(n-1) + fibonacci(n-2)\n",
    "\n",
    "terms = int(input(\"Enter number of terms: \"))\n",
    "\n",
    "if terms <= 0:\n",
    "    print(\"Please enter a positive integer\")\n",
    "else:\n",
    "    print(\"Fibonacci sequence:\")\n",
    "    for i in range(terms):\n",
    "        print(fibonacci(i))"
   ]
  },
  {
   "cell_type": "code",
   "execution_count": 24,
   "id": "df26d40f",
   "metadata": {},
   "outputs": [
    {
     "name": "stdout",
     "output_type": "stream",
     "text": [
      "Please enter a valid number.\n"
     ]
    }
   ],
   "source": [
    "try:\n",
    "    num = int(input(\"Enter a number: \"))\n",
    "    result = 10 / num\n",
    "    print(\"Result is:\", result)\n",
    "except ZeroDivisionError:\n",
    "    print(\"You can't divide by zero!\")\n",
    "except ValueError:\n",
    "    print(\"Please enter a valid number.\")\n"
   ]
  },
  {
   "cell_type": "code",
   "execution_count": null,
   "id": "109e2301",
   "metadata": {},
   "outputs": [],
   "source": []
  }
 ],
 "metadata": {
  "kernelspec": {
   "display_name": "Python 3",
   "language": "python",
   "name": "python3"
  },
  "language_info": {
   "codemirror_mode": {
    "name": "ipython",
    "version": 3
   },
   "file_extension": ".py",
   "mimetype": "text/x-python",
   "name": "python",
   "nbconvert_exporter": "python",
   "pygments_lexer": "ipython3",
   "version": "3.9.0"
  }
 },
 "nbformat": 4,
 "nbformat_minor": 5
}
