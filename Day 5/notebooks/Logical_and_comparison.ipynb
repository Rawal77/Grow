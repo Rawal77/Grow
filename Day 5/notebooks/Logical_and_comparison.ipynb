{
 "cells": [
  {
   "cell_type": "markdown",
   "id": "d6c5e4d1",
   "metadata": {},
   "source": [
    "# Logical and comparison operators in python"
   ]
  },
  {
   "cell_type": "code",
   "execution_count": 1,
   "id": "9697df88",
   "metadata": {},
   "outputs": [
    {
     "name": "stdout",
     "output_type": "stream",
     "text": [
      "30 is out of range.\n"
     ]
    }
   ],
   "source": [
    "# To Check If Number is Within a Range (Using and)\n",
    "\n",
    "number = int(input(\"Enter a number between 10 and 20: \"))\n",
    "\n",
    "if number >= 10 and number <= 20:\n",
    "    print(f\"The {number} is within the range.\")\n",
    "else:\n",
    "    print(f\"{number} is out of range.\")"
   ]
  },
  {
   "cell_type": "code",
   "execution_count": 3,
   "id": "e9085f66",
   "metadata": {},
   "outputs": [
    {
     "name": "stdout",
     "output_type": "stream",
     "text": [
      "You are eligible to vote.\n"
     ]
    }
   ],
   "source": [
    "# To  Determine Eligibility Based on Multiple Conditions (and, or)\n",
    "\n",
    "age = int(input(\"Enter your age: \"))\n",
    "has_id = input(\"Do you have a valid ID? (yes/no): \").strip().lower()\n",
    "\n",
    "if age >= 18 and has_id == \"yes\":\n",
    "    print(\"You are eligible to vote.\")\n",
    "else:\n",
    "    print(\"You are not eligible to vote.\")"
   ]
  },
  {
   "cell_type": "code",
   "execution_count": 4,
   "id": "a0fca783",
   "metadata": {},
   "outputs": [
    {
     "name": "stdout",
     "output_type": "stream",
     "text": [
      "Please log in to continue.\n"
     ]
    }
   ],
   "source": [
    "# Using not to Invert a Condition\n",
    "\n",
    "logged_in = input(\"Are you logged in? (yes/no): \").strip().lower()\n",
    "\n",
    "if not logged_in == \"yes\":\n",
    "    print(\"Please log in to continue.\")\n",
    "else:\n",
    "    print(\"Welcome back!\")\n"
   ]
  },
  {
   "cell_type": "code",
   "execution_count": 6,
   "id": "d8b61348",
   "metadata": {},
   "outputs": [
    {
     "name": "stdout",
     "output_type": "stream",
     "text": [
      "Second number is greater.\n"
     ]
    }
   ],
   "source": [
    "# Compare Two Numbers\n",
    "\n",
    "a = int(input(\"Enter first number: \"))\n",
    "b = int(input(\"Enter second number: \"))\n",
    "\n",
    "if a == b:\n",
    "    print(\"Both numbers are equal.\")\n",
    "elif a > b:\n",
    "    print(\"First number is greater.\")\n",
    "else:\n",
    "    print(\"Second number is greater.\")\n"
   ]
  },
  {
   "cell_type": "code",
   "execution_count": null,
   "id": "dade592f",
   "metadata": {},
   "outputs": [],
   "source": []
  }
 ],
 "metadata": {
  "kernelspec": {
   "display_name": "Python 3",
   "language": "python",
   "name": "python3"
  },
  "language_info": {
   "codemirror_mode": {
    "name": "ipython",
    "version": 3
   },
   "file_extension": ".py",
   "mimetype": "text/x-python",
   "name": "python",
   "nbconvert_exporter": "python",
   "pygments_lexer": "ipython3",
   "version": "3.9.0"
  }
 },
 "nbformat": 4,
 "nbformat_minor": 5
}
