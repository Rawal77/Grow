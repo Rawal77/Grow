{
 "cells": [
  {
   "cell_type": "markdown",
   "id": "c466dea8",
   "metadata": {},
   "source": [
    "# Simplifying File Handling with Python's with Statement"
   ]
  },
  {
   "cell_type": "code",
   "execution_count": 12,
   "id": "8c1514c4",
   "metadata": {},
   "outputs": [
    {
     "name": "stdout",
     "output_type": "stream",
     "text": [
      "Enter the name of students\n",
      "\n",
      "Successfully entered the name of students\n"
     ]
    }
   ],
   "source": [
    "with open(\"../data/Students.txt\",\"w\") as file:\n",
    "    print(\"Enter the name of students\\n\")\n",
    "    for i in range(3):\n",
    "        name = input(f\"Enter the {i+1} number of students\")\n",
    "        file.write(name)\n",
    "\n",
    "print(\"Successfully entered the name of students\")"
   ]
  },
  {
   "cell_type": "code",
   "execution_count": 15,
   "id": "75a24baa",
   "metadata": {},
   "outputs": [
    {
     "name": "stdout",
     "output_type": "stream",
     "text": [
      "File Content:\n",
      "RamSitaGitaHariShyam\n"
     ]
    }
   ],
   "source": [
    "# Reading operation to a file\n",
    "\n",
    "with open(\"../data/Students.txt\",\"r\") as file:\n",
    "    content = file.read()\n",
    "    print(\"File Content:\")\n",
    "    print(content)\n",
    "\n",
    "    "
   ]
  },
  {
   "cell_type": "code",
   "execution_count": 14,
   "id": "56a3cb0f",
   "metadata": {},
   "outputs": [
    {
     "name": "stdout",
     "output_type": "stream",
     "text": [
      "Enter two more names in the existing given text file\n",
      "Successfully added two more names in the text file\n"
     ]
    }
   ],
   "source": [
    "# Append to an existing file\n",
    "\n",
    "with open(\"../data/Students.txt\",\"a\") as file:\n",
    "    print(\"Enter two more names in the existing given text file\")\n",
    "    for i in range(2):\n",
    "        name = input(f\"Enter {i+1} name in the existing text file\")\n",
    "        file.write(name)\n",
    "    print(\"Successfully added two more names in the text file\")"
   ]
  },
  {
   "cell_type": "code",
   "execution_count": null,
   "id": "8aa82166",
   "metadata": {},
   "outputs": [],
   "source": []
  }
 ],
 "metadata": {
  "kernelspec": {
   "display_name": "Python 3",
   "language": "python",
   "name": "python3"
  },
  "language_info": {
   "codemirror_mode": {
    "name": "ipython",
    "version": 3
   },
   "file_extension": ".py",
   "mimetype": "text/x-python",
   "name": "python",
   "nbconvert_exporter": "python",
   "pygments_lexer": "ipython3",
   "version": "3.9.0"
  }
 },
 "nbformat": 4,
 "nbformat_minor": 5
}
