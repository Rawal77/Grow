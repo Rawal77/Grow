{
 "cells": [
  {
   "cell_type": "markdown",
   "id": "3a0c1827",
   "metadata": {},
   "source": [
    "# Identify & Fix Common Errors"
   ]
  },
  {
   "cell_type": "code",
   "execution_count": 1,
   "id": "4de653a6",
   "metadata": {},
   "outputs": [
    {
     "ename": "SyntaxError",
     "evalue": "invalid syntax (810492045.py, line 3)",
     "output_type": "error",
     "traceback": [
      "\u001b[1;36m  Cell \u001b[1;32mIn[1], line 3\u001b[1;36m\u001b[0m\n\u001b[1;33m    fora i in range():\u001b[0m\n\u001b[1;37m         ^\u001b[0m\n\u001b[1;31mSyntaxError\u001b[0m\u001b[1;31m:\u001b[0m invalid syntax\n"
     ]
    }
   ],
   "source": [
    "# Syntax errors\n",
    "\n",
    "fora i in range():\n",
    "print(a)"
   ]
  },
  {
   "cell_type": "code",
   "execution_count": 4,
   "id": "3dfb00c5",
   "metadata": {},
   "outputs": [
    {
     "name": "stdout",
     "output_type": "stream",
     "text": [
      "Result is  50.0\n"
     ]
    }
   ],
   "source": [
    "# Handling Division by Zero (Runtime Error)\n",
    "\n",
    "try:\n",
    "    num = int(input(\"Enter a number: \"))\n",
    "    result = 100/num\n",
    "    print(\"Result is \",result)\n",
    "except ZeroDivisionError:\n",
    "    print(\"Number can;t be divisible by zero\")\n",
    "except ValueError:\n",
    "    print(\"Enter a valid number (0-9)\")"
   ]
  },
  {
   "cell_type": "code",
   "execution_count": 5,
   "id": "874b4add",
   "metadata": {},
   "outputs": [
    {
     "name": "stdout",
     "output_type": "stream",
     "text": [
      "File not found error\n"
     ]
    }
   ],
   "source": [
    "# File Not Found Error Handling\n",
    "try:\n",
    "    with open(\"../data/employee.txt\",\"r\") as file:\n",
    "        content = file.read()\n",
    "        print(content)\n",
    "except FileNotFoundError:\n",
    "    print(\"File not found error\")"
   ]
  },
  {
   "cell_type": "code",
   "execution_count": null,
   "id": "5dcac91c",
   "metadata": {},
   "outputs": [],
   "source": []
  }
 ],
 "metadata": {
  "kernelspec": {
   "display_name": "Python 3",
   "language": "python",
   "name": "python3"
  },
  "language_info": {
   "codemirror_mode": {
    "name": "ipython",
    "version": 3
   },
   "file_extension": ".py",
   "mimetype": "text/x-python",
   "name": "python",
   "nbconvert_exporter": "python",
   "pygments_lexer": "ipython3",
   "version": "3.9.0"
  }
 },
 "nbformat": 4,
 "nbformat_minor": 5
}
