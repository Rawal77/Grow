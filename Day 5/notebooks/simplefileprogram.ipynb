{
 "cells": [
  {
   "cell_type": "markdown",
   "id": "5bb31e95",
   "metadata": {},
   "source": [
    "# Basic operations in File Handling"
   ]
  },
  {
   "cell_type": "code",
   "execution_count": 4,
   "id": "f1c83f4c",
   "metadata": {},
   "outputs": [
    {
     "name": "stdout",
     "output_type": "stream",
     "text": [
      "Data is successfully written to a file\n"
     ]
    }
   ],
   "source": [
    "# Writing to a file\n",
    "\n",
    "file = open(\"../data/Employees.txt\",\"w\")\n",
    "\n",
    "for i in range(3):\n",
    "    name = input(\"Enter name of an employee\\n\")\n",
    "    file.write(name)\n",
    "    file.write(\"\\n\")\n",
    "\n",
    "file.close()\n",
    "print(\"Data is successfully written to a file\")\n"
   ]
  },
  {
   "cell_type": "code",
   "execution_count": 7,
   "id": "70da3b14",
   "metadata": {},
   "outputs": [
    {
     "name": "stdout",
     "output_type": "stream",
     "text": [
      "Ram\n",
      "\n",
      "Shyam\n",
      "\n",
      "Hari\n",
      "\n"
     ]
    }
   ],
   "source": [
    "# Reading to a file\n",
    "\n",
    "file = open(\"../data/Employees.txt\",\"r\")\n",
    "\n",
    "for i in file:\n",
    "    print(i)\n",
    "\n"
   ]
  },
  {
   "cell_type": "code",
   "execution_count": 8,
   "id": "5608a432",
   "metadata": {},
   "outputs": [
    {
     "name": "stdout",
     "output_type": "stream",
     "text": [
      "Two names are successfully inserted in the given file\n"
     ]
    }
   ],
   "source": [
    "# Append to an existing file\n",
    "\n",
    "file = open(\"../data/Employees.txt\",\"a\")\n",
    "\n",
    "for i in range(2):\n",
    "    name = input(\"Enter two more name in the existing file\")\n",
    "    file.write(name)\n",
    "    file.write(\"\\n\")\n",
    "file.close()\n",
    "print(\"Two names are successfully inserted in the given file\")"
   ]
  },
  {
   "cell_type": "code",
   "execution_count": null,
   "id": "a4742197",
   "metadata": {},
   "outputs": [],
   "source": []
  }
 ],
 "metadata": {
  "kernelspec": {
   "display_name": "Python 3",
   "language": "python",
   "name": "python3"
  },
  "language_info": {
   "codemirror_mode": {
    "name": "ipython",
    "version": 3
   },
   "file_extension": ".py",
   "mimetype": "text/x-python",
   "name": "python",
   "nbconvert_exporter": "python",
   "pygments_lexer": "ipython3",
   "version": "3.9.0"
  }
 },
 "nbformat": 4,
 "nbformat_minor": 5
}
