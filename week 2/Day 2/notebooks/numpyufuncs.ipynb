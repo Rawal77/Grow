{
 "cells": [
  {
   "cell_type": "markdown",
   "id": "f5051ff8",
   "metadata": {},
   "source": [
    "# Common Types of universal functions in numpy"
   ]
  },
  {
   "cell_type": "code",
   "execution_count": 5,
   "id": "f016134b",
   "metadata": {},
   "outputs": [
    {
     "name": "stdout",
     "output_type": "stream",
     "text": [
      "[3 5 7]\n",
      "[-1 -1 -1]\n",
      "[ 2  6 12]\n",
      "[0.5        0.66666667 0.75      ]\n"
     ]
    }
   ],
   "source": [
    "# Arithmetic Functions\n",
    "\n",
    "import numpy as np \n",
    "\n",
    "a = np.array([1,2,3])\n",
    "b = np.array([2,3,4,])\n",
    "\n",
    "print(np.add(a,b))\n",
    "print(np.subtract(a,b))\n",
    "print(np.multiply(a,b))\n",
    "print(np.divide(a,b))"
   ]
  },
  {
   "cell_type": "code",
   "execution_count": 9,
   "id": "8eb22c59",
   "metadata": {},
   "outputs": [
    {
     "name": "stdout",
     "output_type": "stream",
     "text": [
      "[False  True False]\n",
      "[False False  True]\n",
      "[ True False False]\n"
     ]
    }
   ],
   "source": [
    "# Comparison Functions\n",
    "\n",
    "a = np.array([1,4,1])\n",
    "b = np.array([3,2,1])\n",
    "\n",
    "print(np.greater(a,b))\n",
    "print(np.equal(a,b))\n",
    "print(np.less(a,b))"
   ]
  },
  {
   "cell_type": "code",
   "execution_count": 11,
   "id": "2be4ed32",
   "metadata": {},
   "outputs": [
    {
     "name": "stdout",
     "output_type": "stream",
     "text": [
      "[2. 2. 3. 3. 3.]\n",
      "[1. 1. 2. 2. 2.]\n",
      "[1. 2. 2. 3. 2.]\n"
     ]
    }
   ],
   "source": [
    "# Rounding Functions\n",
    "\n",
    "a = np.array([1.3,1.8,2.3,2.6,2.5])\n",
    "\n",
    "print(np.ceil(a))\n",
    "print(np.floor(a))\n",
    "print(np.round(a))"
   ]
  },
  {
   "cell_type": "code",
   "execution_count": null,
   "id": "a74592cb",
   "metadata": {},
   "outputs": [
    {
     "name": "stdout",
     "output_type": "stream",
     "text": [
      "[5 7 9]\n",
      "[ 6 15]\n"
     ]
    }
   ],
   "source": [
    "# Aggregate ufuncs (with axis support)\n",
    "\n",
    "arr = np.array([[1,2,3],[4,5,6]])\n",
    "print(np.sum(arr,axis=0))\n",
    "print(np.sum(arr,axis=1))\n",
    "\n"
   ]
  },
  {
   "cell_type": "code",
   "execution_count": 15,
   "id": "43da7597",
   "metadata": {},
   "outputs": [
    {
     "name": "stdout",
     "output_type": "stream",
     "text": [
      "[ 2.71828183  7.3890561  20.08553692]\n",
      "[0.         0.69314718 1.09861229]\n"
     ]
    }
   ],
   "source": [
    "# Exponents and Logaarithms functions\n",
    "\n",
    "a = np.array([1,2,3])\n",
    "print(np.exp(a))          \n",
    "print(np.log(a)) "
   ]
  },
  {
   "cell_type": "code",
   "execution_count": null,
   "id": "7f838373",
   "metadata": {},
   "outputs": [],
   "source": []
  }
 ],
 "metadata": {
  "kernelspec": {
   "display_name": "Python 3",
   "language": "python",
   "name": "python3"
  },
  "language_info": {
   "codemirror_mode": {
    "name": "ipython",
    "version": 3
   },
   "file_extension": ".py",
   "mimetype": "text/x-python",
   "name": "python",
   "nbconvert_exporter": "python",
   "pygments_lexer": "ipython3",
   "version": "3.9.0"
  }
 },
 "nbformat": 4,
 "nbformat_minor": 5
}
