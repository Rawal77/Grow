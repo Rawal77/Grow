{
 "cells": [
  {
   "cell_type": "markdown",
   "id": "578a6a47",
   "metadata": {},
   "source": [
    "# INSPECTION Methods in pandas"
   ]
  },
  {
   "cell_type": "code",
   "execution_count": 2,
   "id": "f76495b0",
   "metadata": {},
   "outputs": [],
   "source": [
    "import pandas as pd\n",
    "\n",
    "data = {\n",
    "    'Name': ['Ram', 'Shyam', 'Hari', 'Gita', 'Eva'],\n",
    "    'Age': [25, 30, 35, 40, 28],\n",
    "    'City': ['Kathmandu', 'Lalitpur', 'Bhaktapur', 'Pokhara', 'Butwal'],\n",
    "    'Salary': [50000, 60000, 55000, 62000, 58000]\n",
    "}\n",
    "\n",
    "df = pd.DataFrame(data)"
   ]
  },
  {
   "cell_type": "code",
   "execution_count": 7,
   "id": "7070b239",
   "metadata": {},
   "outputs": [
    {
     "data": {
      "text/plain": [
       "(5, 4)"
      ]
     },
     "execution_count": 7,
     "metadata": {},
     "output_type": "execute_result"
    }
   ],
   "source": [
    "df.shape"
   ]
  },
  {
   "cell_type": "code",
   "execution_count": 8,
   "id": "12d9ea27",
   "metadata": {},
   "outputs": [
    {
     "data": {
      "text/plain": [
       "Index(['Name', 'Age', 'City', 'Salary'], dtype='object')"
      ]
     },
     "execution_count": 8,
     "metadata": {},
     "output_type": "execute_result"
    }
   ],
   "source": [
    "df.columns"
   ]
  },
  {
   "cell_type": "code",
   "execution_count": 18,
   "id": "a3fc5982",
   "metadata": {},
   "outputs": [
    {
     "name": "stdout",
     "output_type": "stream",
     "text": [
      "    Name  Age       City  Salary\n",
      "A    Ram   25  Kathmandu   50000\n",
      "B  Shyam   30   Lalitpur   60000\n",
      "C   Hari   35  Bhaktapur   55000\n",
      "D   Gita   40    Pokhara   62000\n",
      "E    Eva   28     Butwal   58000\n",
      "       Age       City  Salary\n",
      "Name                         \n",
      "Ram     25  Kathmandu   50000\n",
      "Shyam   30   Lalitpur   60000\n",
      "Hari    35  Bhaktapur   55000\n",
      "Gita    40    Pokhara   62000\n",
      "Eva     28     Butwal   58000\n"
     ]
    }
   ],
   "source": [
    "df.index = ['A','B','C','D','E']\n",
    "print(df)\n",
    "print(df.set_index('Name'))"
   ]
  },
  {
   "cell_type": "code",
   "execution_count": 19,
   "id": "3d3612b4",
   "metadata": {},
   "outputs": [
    {
     "name": "stdout",
     "output_type": "stream",
     "text": [
      "    Name  Age       City  Salary\n",
      "A    Ram   25  Kathmandu   50000\n",
      "B  Shyam   30   Lalitpur   60000\n",
      "C   Hari   35  Bhaktapur   55000\n",
      "D   Gita   40    Pokhara   62000\n",
      "E    Eva   28     Butwal   58000\n"
     ]
    }
   ],
   "source": [
    "print(df.head())"
   ]
  },
  {
   "cell_type": "code",
   "execution_count": 20,
   "id": "3c850b98",
   "metadata": {},
   "outputs": [
    {
     "name": "stdout",
     "output_type": "stream",
     "text": [
      "    Name  Age       City  Salary\n",
      "A    Ram   25  Kathmandu   50000\n",
      "B  Shyam   30   Lalitpur   60000\n",
      "C   Hari   35  Bhaktapur   55000\n",
      "D   Gita   40    Pokhara   62000\n",
      "E    Eva   28     Butwal   58000\n"
     ]
    }
   ],
   "source": [
    "print(df.tail())"
   ]
  },
  {
   "cell_type": "code",
   "execution_count": 21,
   "id": "ecc70dca",
   "metadata": {},
   "outputs": [
    {
     "name": "stdout",
     "output_type": "stream",
     "text": [
      "            Age       Salary\n",
      "count   5.00000      5.00000\n",
      "mean   31.60000  57000.00000\n",
      "std     5.94138   4690.41576\n",
      "min    25.00000  50000.00000\n",
      "25%    28.00000  55000.00000\n",
      "50%    30.00000  58000.00000\n",
      "75%    35.00000  60000.00000\n",
      "max    40.00000  62000.00000\n"
     ]
    }
   ],
   "source": [
    "print(df.describe())"
   ]
  },
  {
   "cell_type": "code",
   "execution_count": 3,
   "id": "9a8bad86",
   "metadata": {},
   "outputs": [
    {
     "data": {
      "text/plain": [
       "Name      object\n",
       "Age        int64\n",
       "City      object\n",
       "Salary     int64\n",
       "dtype: object"
      ]
     },
     "execution_count": 3,
     "metadata": {},
     "output_type": "execute_result"
    }
   ],
   "source": [
    "df.dtypes"
   ]
  },
  {
   "cell_type": "code",
   "execution_count": 4,
   "id": "e2941810",
   "metadata": {},
   "outputs": [
    {
     "data": {
      "text/plain": [
       "array([['Ram', 25, 'Kathmandu', 50000],\n",
       "       ['Shyam', 30, 'Lalitpur', 60000],\n",
       "       ['Hari', 35, 'Bhaktapur', 55000],\n",
       "       ['Gita', 40, 'Pokhara', 62000],\n",
       "       ['Eva', 28, 'Butwal', 58000]], dtype=object)"
      ]
     },
     "execution_count": 4,
     "metadata": {},
     "output_type": "execute_result"
    }
   ],
   "source": [
    "df.values"
   ]
  },
  {
   "cell_type": "code",
   "execution_count": null,
   "id": "fe31c2b9",
   "metadata": {},
   "outputs": [],
   "source": []
  }
 ],
 "metadata": {
  "kernelspec": {
   "display_name": "Python 3",
   "language": "python",
   "name": "python3"
  },
  "language_info": {
   "codemirror_mode": {
    "name": "ipython",
    "version": 3
   },
   "file_extension": ".py",
   "mimetype": "text/x-python",
   "name": "python",
   "nbconvert_exporter": "python",
   "pygments_lexer": "ipython3",
   "version": "3.9.0"
  }
 },
 "nbformat": 4,
 "nbformat_minor": 5
}
