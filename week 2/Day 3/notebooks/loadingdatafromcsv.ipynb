{
 "cells": [
  {
   "cell_type": "markdown",
   "id": "ab710a98",
   "metadata": {},
   "source": [
    "# Loading Data From .csv Format and performing some basic operations"
   ]
  },
  {
   "cell_type": "code",
   "execution_count": 1,
   "id": "cd97e0c3",
   "metadata": {},
   "outputs": [
    {
     "name": "stdout",
     "output_type": "stream",
     "text": [
      "         Date     Category Sub-Category  Amount Payment Mode\n",
      "0  2020-01-01  Electronics       Mobile    1000         Card\n",
      "1  2020-01-02     Clothing        Shirt     500         Cash\n",
      "2  2020-01-03  Electronics       Laptop    2000         Card\n",
      "3  2020-01-04      Grocery   Vegetables   30000         Card\n",
      "4  2020-01-05     Clothing        Jeans     400         Cash\n"
     ]
    }
   ],
   "source": [
    "import pandas as pd\n",
    "\n",
    "df = pd.read_csv(\"../../../datasets/expense_data.csv\")\n",
    "print(df.head())"
   ]
  },
  {
   "cell_type": "code",
   "execution_count": 15,
   "id": "f3eabc5e",
   "metadata": {},
   "outputs": [
    {
     "name": "stdout",
     "output_type": "stream",
     "text": [
      "(8, 5)\n"
     ]
    }
   ],
   "source": [
    "print(df.shape)"
   ]
  },
  {
   "cell_type": "code",
   "execution_count": 11,
   "id": "bef774ed",
   "metadata": {},
   "outputs": [
    {
     "name": "stdout",
     "output_type": "stream",
     "text": [
      "<class 'pandas.core.frame.DataFrame'>\n",
      "RangeIndex: 8 entries, 0 to 7\n",
      "Data columns (total 5 columns):\n",
      " #   Column        Non-Null Count  Dtype \n",
      "---  ------        --------------  ----- \n",
      " 0   Date          8 non-null      object\n",
      " 1   Category      8 non-null      object\n",
      " 2   Sub-Category  8 non-null      object\n",
      " 3   Amount        8 non-null      int64 \n",
      " 4   Payment Mode  8 non-null      object\n",
      "dtypes: int64(1), object(4)\n",
      "memory usage: 448.0+ bytes\n",
      "None\n"
     ]
    }
   ],
   "source": [
    "print(df.info())"
   ]
  },
  {
   "cell_type": "code",
   "execution_count": null,
   "id": "7e286d02",
   "metadata": {},
   "outputs": [],
   "source": []
  }
 ],
 "metadata": {
  "kernelspec": {
   "display_name": "Python 3",
   "language": "python",
   "name": "python3"
  },
  "language_info": {
   "codemirror_mode": {
    "name": "ipython",
    "version": 3
   },
   "file_extension": ".py",
   "mimetype": "text/x-python",
   "name": "python",
   "nbconvert_exporter": "python",
   "pygments_lexer": "ipython3",
   "version": "3.9.0"
  }
 },
 "nbformat": 4,
 "nbformat_minor": 5
}
