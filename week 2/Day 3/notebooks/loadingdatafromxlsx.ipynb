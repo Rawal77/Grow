{
 "cells": [
  {
   "cell_type": "markdown",
   "id": "ab710a98",
   "metadata": {},
   "source": [
    "# Loading Data From .xlsx (excel) Format and performing some basic operations"
   ]
  },
  {
   "cell_type": "code",
   "execution_count": 10,
   "id": "918333ed",
   "metadata": {},
   "outputs": [
    {
     "name": "stdout",
     "output_type": "stream",
     "text": [
      "Collecting openpyxl"
     ]
    },
    {
     "name": "stderr",
     "output_type": "stream",
     "text": [
      "\n",
      "[notice] A new release of pip is available: 25.0.1 -> 25.1.1\n",
      "[notice] To update, run: python.exe -m pip install --upgrade pip\n"
     ]
    },
    {
     "name": "stdout",
     "output_type": "stream",
     "text": [
      "\n",
      "  Downloading openpyxl-3.1.5-py2.py3-none-any.whl.metadata (2.5 kB)\n",
      "Collecting et-xmlfile (from openpyxl)\n",
      "  Downloading et_xmlfile-2.0.0-py3-none-any.whl.metadata (2.7 kB)\n",
      "Downloading openpyxl-3.1.5-py2.py3-none-any.whl (250 kB)\n",
      "Downloading et_xmlfile-2.0.0-py3-none-any.whl (18 kB)\n",
      "Installing collected packages: et-xmlfile, openpyxl\n",
      "Successfully installed et-xmlfile-2.0.0 openpyxl-3.1.5\n"
     ]
    }
   ],
   "source": [
    "!pip install openpyxl"
   ]
  },
  {
   "cell_type": "code",
   "execution_count": 15,
   "id": "cd97e0c3",
   "metadata": {},
   "outputs": [
    {
     "name": "stdout",
     "output_type": "stream",
     "text": [
      "   S.N.       Name  Sub  Unnamed: 3 Unnamed: 4 Unnamed: 5     Unnamed: 6  \\\n",
      "0   NaN        NaN  Math    English   Computer  Sociology  Digital Logic   \n",
      "1   1.0        Ram    40         30         40         30             21   \n",
      "2   2.0      Shyam    50         50         30         67             99   \n",
      "3   3.0  Ghanshyam    60         60         50         54             99   \n",
      "4   4.0       Hari   100        100        100        100             20   \n",
      "\n",
      "   Total Grade Result  Percentage  \n",
      "0    NaN   NaN    NaN         NaN  \n",
      "1  161.0   NaN   FAIL         NaN  \n",
      "2  296.0   NaN   FAIL         NaN  \n",
      "3  323.0     B   PASS        64.6  \n",
      "4  420.0   NaN   FAIL         NaN  \n"
     ]
    }
   ],
   "source": [
    "import pandas as pd\n",
    "\n",
    "df = pd.read_excel(\"../../../datasets/Book1.xlsx\",engine=\"openpyxl\")\n",
    "print(df.head())"
   ]
  },
  {
   "cell_type": "code",
   "execution_count": 15,
   "id": "f3eabc5e",
   "metadata": {},
   "outputs": [
    {
     "name": "stdout",
     "output_type": "stream",
     "text": [
      "(8, 5)\n"
     ]
    }
   ],
   "source": [
    "print(df.shape)"
   ]
  },
  {
   "cell_type": "code",
   "execution_count": 11,
   "id": "bef774ed",
   "metadata": {},
   "outputs": [
    {
     "name": "stdout",
     "output_type": "stream",
     "text": [
      "<class 'pandas.core.frame.DataFrame'>\n",
      "RangeIndex: 8 entries, 0 to 7\n",
      "Data columns (total 5 columns):\n",
      " #   Column        Non-Null Count  Dtype \n",
      "---  ------        --------------  ----- \n",
      " 0   Date          8 non-null      object\n",
      " 1   Category      8 non-null      object\n",
      " 2   Sub-Category  8 non-null      object\n",
      " 3   Amount        8 non-null      int64 \n",
      " 4   Payment Mode  8 non-null      object\n",
      "dtypes: int64(1), object(4)\n",
      "memory usage: 448.0+ bytes\n",
      "None\n"
     ]
    }
   ],
   "source": [
    "print(df.info())"
   ]
  },
  {
   "cell_type": "code",
   "execution_count": null,
   "id": "7e286d02",
   "metadata": {},
   "outputs": [],
   "source": []
  }
 ],
 "metadata": {
  "kernelspec": {
   "display_name": "Python 3",
   "language": "python",
   "name": "python3"
  },
  "language_info": {
   "codemirror_mode": {
    "name": "ipython",
    "version": 3
   },
   "file_extension": ".py",
   "mimetype": "text/x-python",
   "name": "python",
   "nbconvert_exporter": "python",
   "pygments_lexer": "ipython3",
   "version": "3.9.0"
  }
 },
 "nbformat": 4,
 "nbformat_minor": 5
}
