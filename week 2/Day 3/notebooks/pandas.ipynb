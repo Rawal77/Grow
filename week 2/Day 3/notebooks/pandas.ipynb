{
 "cells": [
  {
   "cell_type": "markdown",
   "id": "27bdd10a",
   "metadata": {},
   "source": [
    "# Creating a Data Structures in Pandas"
   ]
  },
  {
   "cell_type": "markdown",
   "id": "d08ef7e0",
   "metadata": {},
   "source": [
    "### Series"
   ]
  },
  {
   "cell_type": "code",
   "execution_count": 3,
   "id": "578edf0d",
   "metadata": {},
   "outputs": [
    {
     "name": "stdout",
     "output_type": "stream",
     "text": [
      "0    [Ram, Shyam, Hari, Gita, Sita]\n",
      "dtype: object\n"
     ]
    }
   ],
   "source": [
    "import pandas as pd \n",
    "\n",
    "data = ['Ram','Shyam','Hari','Gita','Sita']\n",
    "\n",
    "s = pd.Series([data])\n",
    "print(s)"
   ]
  },
  {
   "cell_type": "code",
   "execution_count": 5,
   "id": "257f2f10",
   "metadata": {},
   "outputs": [
    {
     "name": "stdout",
     "output_type": "stream",
     "text": [
      "a      Ram\n",
      "b    Shyam\n",
      "c     Hari\n",
      "d     Gita\n",
      "e     Sita\n",
      "dtype: object\n"
     ]
    }
   ],
   "source": [
    "s = pd.Series(['Ram','Shyam','Hari','Gita','Sita'],index=['a','b','c','d','e'])\n",
    "print(s)"
   ]
  },
  {
   "cell_type": "markdown",
   "id": "8aafcdd3",
   "metadata": {},
   "source": [
    "### DataFrame"
   ]
  },
  {
   "cell_type": "code",
   "execution_count": 6,
   "id": "ae11ab8a",
   "metadata": {},
   "outputs": [
    {
     "name": "stdout",
     "output_type": "stream",
     "text": [
      "    Name  Age  Grade\n",
      "0    Ram   12      7\n",
      "1  Shyam   13      8\n",
      "2   Hari   11      7\n"
     ]
    }
   ],
   "source": [
    "data = {\n",
    "    \"Name\" : ['Ram','Shyam','Hari'],\n",
    "    \"Age\" : [12,13,11],\n",
    "    \"Grade\" : [7,8,7]\n",
    "}\n",
    "\n",
    "df = pd.DataFrame(data)\n",
    "print(df)"
   ]
  },
  {
   "cell_type": "code",
   "execution_count": 12,
   "id": "cbd199da",
   "metadata": {},
   "outputs": [
    {
     "name": "stdout",
     "output_type": "stream",
     "text": [
      "    Name  Age Gender\n",
      "0    Ram   12      M\n",
      "1  Shyam   12      M\n",
      "2   Rama   12      F\n"
     ]
    }
   ],
   "source": [
    "data = [\n",
    "    {\"Name\" : \"Ram\", \"Age\": 12, \"Gender\" : \"M\"},\n",
    "    {\"Name\" : \"Shyam\", \"Age\": 12, \"Gender\" : \"M\"},\n",
    "    {\"Name\" : \"Rama\", \"Age\": 12, \"Gender\" : \"F\"}\n",
    "]\n",
    "\n",
    "df = pd.DataFrame(data)\n",
    "print(df)"
   ]
  },
  {
   "cell_type": "code",
   "execution_count": 13,
   "id": "fdf8bbed",
   "metadata": {},
   "outputs": [
    {
     "name": "stdout",
     "output_type": "stream",
     "text": [
      "    Name  Age Gender\n",
      "a    Ram   12      M\n",
      "b  Shyam   12      M\n",
      "c   Rama   12      F\n"
     ]
    }
   ],
   "source": [
    "df = pd.DataFrame(data,index=['a','b','c'])\n",
    "print(df)"
   ]
  },
  {
   "cell_type": "code",
   "execution_count": 18,
   "id": "61b12bca",
   "metadata": {},
   "outputs": [
    {
     "name": "stdout",
     "output_type": "stream",
     "text": [
      "       Name  Age  Grade\n",
      "S.N.                   \n",
      "570     Ram   12      7\n",
      "571   Shyam   13      8\n",
      "572    Hari   11      7\n"
     ]
    }
   ],
   "source": [
    "data = {\n",
    "    \"Name\" : ['Ram','Shyam','Hari'],\n",
    "    \"Age\" : [12,13,11],\n",
    "    \"Grade\" : [7,8,7],\n",
    "    \"S.N.\" : [570,571,572]\n",
    "}\n",
    "df = pd.DataFrame(data,index=['a','b','c'])\n",
    "\n",
    "df.set_index('S.N.',inplace=True)\n",
    "print(df)"
   ]
  },
  {
   "cell_type": "code",
   "execution_count": 20,
   "id": "a1618ce9",
   "metadata": {},
   "outputs": [
    {
     "name": "stdout",
     "output_type": "stream",
     "text": [
      "   index  S.N.   Name  Age  Grade\n",
      "0      0   570    Ram   12      7\n",
      "1      1   571  Shyam   13      8\n",
      "2      2   572   Hari   11      7\n"
     ]
    }
   ],
   "source": [
    "df = df.reset_index()\n",
    "print(df)"
   ]
  },
  {
   "cell_type": "code",
   "execution_count": null,
   "id": "497f1401",
   "metadata": {},
   "outputs": [],
   "source": []
  }
 ],
 "metadata": {
  "kernelspec": {
   "display_name": "Python 3",
   "language": "python",
   "name": "python3"
  },
  "language_info": {
   "codemirror_mode": {
    "name": "ipython",
    "version": 3
   },
   "file_extension": ".py",
   "mimetype": "text/x-python",
   "name": "python",
   "nbconvert_exporter": "python",
   "pygments_lexer": "ipython3",
   "version": "3.9.0"
  }
 },
 "nbformat": 4,
 "nbformat_minor": 5
}
