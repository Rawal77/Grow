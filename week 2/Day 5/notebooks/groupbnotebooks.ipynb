{
 "cells": [
  {
   "cell_type": "markdown",
   "id": "0c0d114b",
   "metadata": {},
   "source": [
    "### Working on groupby "
   ]
  },
  {
   "cell_type": "code",
   "execution_count": 2,
   "id": "497bb9ff",
   "metadata": {},
   "outputs": [
    {
     "data": {
      "text/html": [
       "<div>\n",
       "<style scoped>\n",
       "    .dataframe tbody tr th:only-of-type {\n",
       "        vertical-align: middle;\n",
       "    }\n",
       "\n",
       "    .dataframe tbody tr th {\n",
       "        vertical-align: top;\n",
       "    }\n",
       "\n",
       "    .dataframe thead th {\n",
       "        text-align: right;\n",
       "    }\n",
       "</style>\n",
       "<table border=\"1\" class=\"dataframe\">\n",
       "  <thead>\n",
       "    <tr style=\"text-align: right;\">\n",
       "      <th></th>\n",
       "      <th>Name</th>\n",
       "      <th>Electives</th>\n",
       "      <th>Gender</th>\n",
       "      <th>Marks Scored</th>\n",
       "    </tr>\n",
       "  </thead>\n",
       "  <tbody>\n",
       "    <tr>\n",
       "      <th>0</th>\n",
       "      <td>Ram</td>\n",
       "      <td>Cyber Security</td>\n",
       "      <td>M</td>\n",
       "      <td>70</td>\n",
       "    </tr>\n",
       "    <tr>\n",
       "      <th>1</th>\n",
       "      <td>Shyam</td>\n",
       "      <td>IS</td>\n",
       "      <td>M</td>\n",
       "      <td>80</td>\n",
       "    </tr>\n",
       "    <tr>\n",
       "      <th>2</th>\n",
       "      <td>Hari</td>\n",
       "      <td>Cyber Security</td>\n",
       "      <td>M</td>\n",
       "      <td>50</td>\n",
       "    </tr>\n",
       "    <tr>\n",
       "      <th>3</th>\n",
       "      <td>Ghanshyam</td>\n",
       "      <td>ML</td>\n",
       "      <td>M</td>\n",
       "      <td>32</td>\n",
       "    </tr>\n",
       "    <tr>\n",
       "      <th>4</th>\n",
       "      <td>Sita</td>\n",
       "      <td>ML</td>\n",
       "      <td>F</td>\n",
       "      <td>21</td>\n",
       "    </tr>\n",
       "    <tr>\n",
       "      <th>5</th>\n",
       "      <td>Gita</td>\n",
       "      <td>IS</td>\n",
       "      <td>F</td>\n",
       "      <td>65</td>\n",
       "    </tr>\n",
       "    <tr>\n",
       "      <th>6</th>\n",
       "      <td>Rita</td>\n",
       "      <td>IS</td>\n",
       "      <td>F</td>\n",
       "      <td>75</td>\n",
       "    </tr>\n",
       "  </tbody>\n",
       "</table>\n",
       "</div>"
      ],
      "text/plain": [
       "        Name       Electives Gender  Marks Scored\n",
       "0        Ram  Cyber Security      M            70\n",
       "1      Shyam              IS      M            80\n",
       "2       Hari  Cyber Security      M            50\n",
       "3  Ghanshyam              ML      M            32\n",
       "4       Sita              ML      F            21\n",
       "5       Gita              IS      F            65\n",
       "6       Rita              IS      F            75"
      ]
     },
     "execution_count": 2,
     "metadata": {},
     "output_type": "execute_result"
    }
   ],
   "source": [
    "import pandas as pd \n",
    "\n",
    "data = {\n",
    "    \"Name\" : ['Ram','Shyam','Hari','Ghanshyam','Sita','Gita','Rita'],\n",
    "    \"Electives\" : ['Cyber Security','IS','Cyber Security','ML','ML','IS','IS'],\n",
    "    \"Gender\" : ['M','M','M','M','F','F','F'],\n",
    "    \"Marks Scored\" : [70,80,50,32,21,65,75]\n",
    "}\n",
    "\n",
    "df = pd.DataFrame(data)\n",
    "df"
   ]
  },
  {
   "cell_type": "code",
   "execution_count": 13,
   "id": "caae8f4d",
   "metadata": {},
   "outputs": [
    {
     "data": {
      "text/plain": [
       "Electives\n",
       "Cyber Security    2\n",
       "IS                3\n",
       "ML                2\n",
       "dtype: int64"
      ]
     },
     "execution_count": 13,
     "metadata": {},
     "output_type": "execute_result"
    }
   ],
   "source": [
    "# grouping by according to their choosen electives\n",
    "\n",
    "electives_group = df.groupby('Electives').size()\n",
    "\n",
    "electives_group\n",
    "\n",
    "\n"
   ]
  },
  {
   "cell_type": "code",
   "execution_count": 14,
   "id": "cbbd15b6",
   "metadata": {},
   "outputs": [
    {
     "data": {
      "text/plain": [
       "3"
      ]
     },
     "execution_count": 14,
     "metadata": {},
     "output_type": "execute_result"
    }
   ],
   "source": [
    "electives_group.count()"
   ]
  },
  {
   "cell_type": "code",
   "execution_count": 16,
   "id": "e2b856d3",
   "metadata": {},
   "outputs": [
    {
     "data": {
      "text/plain": [
       "Electives\n",
       "Cyber Security    60.000000\n",
       "IS                73.333333\n",
       "ML                26.500000\n",
       "Name: Marks Scored, dtype: float64"
      ]
     },
     "execution_count": 16,
     "metadata": {},
     "output_type": "execute_result"
    }
   ],
   "source": [
    "# Average marks scored based on the electives\n",
    "\n",
    "averagemarks_elective = df.groupby('Electives')['Marks Scored'].mean()\n",
    "\n",
    "averagemarks_elective"
   ]
  },
  {
   "cell_type": "code",
   "execution_count": 17,
   "id": "4cf94796",
   "metadata": {},
   "outputs": [
    {
     "data": {
      "text/plain": [
       "Electives       Gender\n",
       "Cyber Security  M         60.0\n",
       "IS              F         70.0\n",
       "                M         80.0\n",
       "ML              F         21.0\n",
       "                M         32.0\n",
       "Name: Marks Scored, dtype: float64"
      ]
     },
     "execution_count": 17,
     "metadata": {},
     "output_type": "execute_result"
    }
   ],
   "source": [
    "averagemarks_electivegender = df.groupby(['Electives','Gender'])['Marks Scored'].mean()\n",
    "\n",
    "averagemarks_electivegender"
   ]
  },
  {
   "cell_type": "code",
   "execution_count": 20,
   "id": "9cd08ad3",
   "metadata": {},
   "outputs": [
    {
     "data": {
      "text/html": [
       "<div>\n",
       "<style scoped>\n",
       "    .dataframe tbody tr th:only-of-type {\n",
       "        vertical-align: middle;\n",
       "    }\n",
       "\n",
       "    .dataframe tbody tr th {\n",
       "        vertical-align: top;\n",
       "    }\n",
       "\n",
       "    .dataframe thead th {\n",
       "        text-align: right;\n",
       "    }\n",
       "</style>\n",
       "<table border=\"1\" class=\"dataframe\">\n",
       "  <thead>\n",
       "    <tr style=\"text-align: right;\">\n",
       "      <th></th>\n",
       "      <th>mean</th>\n",
       "      <th>max</th>\n",
       "    </tr>\n",
       "    <tr>\n",
       "      <th>Electives</th>\n",
       "      <th></th>\n",
       "      <th></th>\n",
       "    </tr>\n",
       "  </thead>\n",
       "  <tbody>\n",
       "    <tr>\n",
       "      <th>Cyber Security</th>\n",
       "      <td>60.000000</td>\n",
       "      <td>70</td>\n",
       "    </tr>\n",
       "    <tr>\n",
       "      <th>IS</th>\n",
       "      <td>73.333333</td>\n",
       "      <td>80</td>\n",
       "    </tr>\n",
       "    <tr>\n",
       "      <th>ML</th>\n",
       "      <td>26.500000</td>\n",
       "      <td>32</td>\n",
       "    </tr>\n",
       "  </tbody>\n",
       "</table>\n",
       "</div>"
      ],
      "text/plain": [
       "                     mean  max\n",
       "Electives                     \n",
       "Cyber Security  60.000000   70\n",
       "IS              73.333333   80\n",
       "ML              26.500000   32"
      ]
     },
     "execution_count": 20,
     "metadata": {},
     "output_type": "execute_result"
    }
   ],
   "source": [
    "#  Aggregate Multiple Columns\n",
    "\n",
    "multiple_columns = df.groupby('Electives')['Marks Scored'].agg(['mean','max'])\n",
    "multiple_columns"
   ]
  },
  {
   "cell_type": "code",
   "execution_count": 23,
   "id": "e47797a1",
   "metadata": {},
   "outputs": [
    {
     "data": {
      "text/html": [
       "<div>\n",
       "<style scoped>\n",
       "    .dataframe tbody tr th:only-of-type {\n",
       "        vertical-align: middle;\n",
       "    }\n",
       "\n",
       "    .dataframe tbody tr th {\n",
       "        vertical-align: top;\n",
       "    }\n",
       "\n",
       "    .dataframe thead th {\n",
       "        text-align: right;\n",
       "    }\n",
       "</style>\n",
       "<table border=\"1\" class=\"dataframe\">\n",
       "  <thead>\n",
       "    <tr style=\"text-align: right;\">\n",
       "      <th></th>\n",
       "      <th>Electives</th>\n",
       "      <th>Gender</th>\n",
       "      <th>min</th>\n",
       "      <th>mean</th>\n",
       "      <th>max</th>\n",
       "    </tr>\n",
       "  </thead>\n",
       "  <tbody>\n",
       "    <tr>\n",
       "      <th>0</th>\n",
       "      <td>Cyber Security</td>\n",
       "      <td>M</td>\n",
       "      <td>50</td>\n",
       "      <td>60.0</td>\n",
       "      <td>70</td>\n",
       "    </tr>\n",
       "    <tr>\n",
       "      <th>1</th>\n",
       "      <td>IS</td>\n",
       "      <td>F</td>\n",
       "      <td>65</td>\n",
       "      <td>70.0</td>\n",
       "      <td>75</td>\n",
       "    </tr>\n",
       "    <tr>\n",
       "      <th>2</th>\n",
       "      <td>IS</td>\n",
       "      <td>M</td>\n",
       "      <td>80</td>\n",
       "      <td>80.0</td>\n",
       "      <td>80</td>\n",
       "    </tr>\n",
       "    <tr>\n",
       "      <th>3</th>\n",
       "      <td>ML</td>\n",
       "      <td>F</td>\n",
       "      <td>21</td>\n",
       "      <td>21.0</td>\n",
       "      <td>21</td>\n",
       "    </tr>\n",
       "    <tr>\n",
       "      <th>4</th>\n",
       "      <td>ML</td>\n",
       "      <td>M</td>\n",
       "      <td>32</td>\n",
       "      <td>32.0</td>\n",
       "      <td>32</td>\n",
       "    </tr>\n",
       "  </tbody>\n",
       "</table>\n",
       "</div>"
      ],
      "text/plain": [
       "        Electives Gender  min  mean  max\n",
       "0  Cyber Security      M   50  60.0   70\n",
       "1              IS      F   65  70.0   75\n",
       "2              IS      M   80  80.0   80\n",
       "3              ML      F   21  21.0   21\n",
       "4              ML      M   32  32.0   32"
      ]
     },
     "execution_count": 23,
     "metadata": {},
     "output_type": "execute_result"
    }
   ],
   "source": [
    "# use of reset_index\n",
    "\n",
    "avg_marks_scored_gender = df.groupby(['Electives','Gender'])['Marks Scored'].agg(['min','mean','max']).reset_index()\n",
    "avg_marks_scored_gender"
   ]
  },
  {
   "cell_type": "code",
   "execution_count": null,
   "id": "3439b75c",
   "metadata": {},
   "outputs": [],
   "source": []
  }
 ],
 "metadata": {
  "kernelspec": {
   "display_name": "Python 3",
   "language": "python",
   "name": "python3"
  },
  "language_info": {
   "codemirror_mode": {
    "name": "ipython",
    "version": 3
   },
   "file_extension": ".py",
   "mimetype": "text/x-python",
   "name": "python",
   "nbconvert_exporter": "python",
   "pygments_lexer": "ipython3",
   "version": "3.9.0"
  }
 },
 "nbformat": 4,
 "nbformat_minor": 5
}
