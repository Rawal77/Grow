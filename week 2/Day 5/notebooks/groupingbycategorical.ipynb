{
 "cells": [
  {
   "cell_type": "markdown",
   "id": "4c9661b5",
   "metadata": {},
   "source": [
    "### Group by a categorical column"
   ]
  },
  {
   "cell_type": "code",
   "execution_count": 3,
   "id": "8b05dceb",
   "metadata": {},
   "outputs": [],
   "source": [
    "import pandas as pd \n",
    "\n",
    "data = {\n",
    "    'Name' : ['Ram','Rama','Sita','Gita','Hari','Saina','Imo'],\n",
    "    'Department': ['IT', 'HR', 'IT', 'HR', 'IT', 'Sales', 'Sales'],\n",
    "    'Marks': [85, 78, 90, 82, 88, 75, 80],\n",
    "    'Gender': ['F', 'M', 'M', 'M', 'F', 'M', 'F']\n",
    "}\n",
    "\n",
    "df = pd.DataFrame(data)"
   ]
  },
  {
   "cell_type": "code",
   "execution_count": 8,
   "id": "e010aa26",
   "metadata": {},
   "outputs": [
    {
     "name": "stdout",
     "output_type": "stream",
     "text": [
      "  Department  min  max       mean\n",
      "0         HR   78   82  80.000000\n",
      "1         IT   85   90  87.666667\n",
      "2      Sales   75   80  77.500000\n"
     ]
    }
   ],
   "source": [
    "#  Average Marks per Department:\n",
    "\n",
    "avg_marks = df.groupby('Department')['Marks'].agg(['min','max','mean']).reset_index().pipe(print)"
   ]
  },
  {
   "cell_type": "code",
   "execution_count": 9,
   "id": "57309f21",
   "metadata": {},
   "outputs": [
    {
     "name": "stdout",
     "output_type": "stream",
     "text": [
      "  Department Gender  min  mean  max\n",
      "0         HR      M   78  80.0   82\n",
      "1         IT      F   85  86.5   88\n",
      "2         IT      M   90  90.0   90\n",
      "3      Sales      F   80  80.0   80\n",
      "4      Sales      M   75  75.0   75\n"
     ]
    }
   ],
   "source": [
    "# Average marks per department based on gender\n",
    "\n",
    "avg_marks_gender = df.groupby(['Department','Gender'])['Marks'].agg(['min','mean','max']).reset_index().pipe(print)\n"
   ]
  }
 ],
 "metadata": {
  "kernelspec": {
   "display_name": "Python 3",
   "language": "python",
   "name": "python3"
  },
  "language_info": {
   "codemirror_mode": {
    "name": "ipython",
    "version": 3
   },
   "file_extension": ".py",
   "mimetype": "text/x-python",
   "name": "python",
   "nbconvert_exporter": "python",
   "pygments_lexer": "ipython3",
   "version": "3.9.0"
  }
 },
 "nbformat": 4,
 "nbformat_minor": 5
}
