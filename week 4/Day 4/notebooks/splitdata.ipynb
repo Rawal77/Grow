{
 "cells": [
  {
   "cell_type": "markdown",
   "id": "495c9918",
   "metadata": {},
   "source": [
    "### split data for multiple models"
   ]
  },
  {
   "cell_type": "code",
   "execution_count": 10,
   "id": "1da7df0a",
   "metadata": {},
   "outputs": [],
   "source": [
    "import pandas as pd\n",
    "from sklearn.datasets import load_iris \n",
    "from sklearn.model_selection import KFold\n",
    "from sklearn.model_selection import train_test_split"
   ]
  },
  {
   "cell_type": "code",
   "execution_count": 6,
   "id": "98d2ca85",
   "metadata": {},
   "outputs": [],
   "source": [
    "iris = load_iris()\n",
    "X = pd.DataFrame(iris.data, columns=iris.feature_names)\n",
    "y = iris.target\n"
   ]
  },
  {
   "cell_type": "code",
   "execution_count": 8,
   "id": "07c60f27",
   "metadata": {},
   "outputs": [],
   "source": [
    "## Train-Test Split (with stratification)\n",
    "\n",
    "X_train, X_test, y_train, y_test = train_test_split(X, y, stratify=y)"
   ]
  },
  {
   "cell_type": "code",
   "execution_count": 11,
   "id": "b5024124",
   "metadata": {},
   "outputs": [],
   "source": [
    "##  K-Fold Cross-Validation\n",
    "\n",
    "kf = KFold(n_splits=5)"
   ]
  }
 ],
 "metadata": {
  "kernelspec": {
   "display_name": "Python 3",
   "language": "python",
   "name": "python3"
  },
  "language_info": {
   "codemirror_mode": {
    "name": "ipython",
    "version": 3
   },
   "file_extension": ".py",
   "mimetype": "text/x-python",
   "name": "python",
   "nbconvert_exporter": "python",
   "pygments_lexer": "ipython3",
   "version": "3.9.0"
  }
 },
 "nbformat": 4,
 "nbformat_minor": 5
}
