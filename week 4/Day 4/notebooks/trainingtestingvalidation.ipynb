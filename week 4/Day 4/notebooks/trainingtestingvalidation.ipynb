{
 "cells": [
  {
   "cell_type": "markdown",
   "id": "8b1a5d50",
   "metadata": {},
   "source": [
    "### Learning about Training Testing Validation Sets"
   ]
  },
  {
   "cell_type": "code",
   "execution_count": 1,
   "id": "1db487c8",
   "metadata": {},
   "outputs": [],
   "source": [
    "import numpy as np \n",
    "import matplotlib.pyplot as plt \n",
    "import seaborn as sns \n",
    "from sklearn.model_selection import train_test_split"
   ]
  },
  {
   "cell_type": "code",
   "execution_count": 14,
   "id": "78ee228c",
   "metadata": {},
   "outputs": [],
   "source": [
    "x = [[1],[2],[3],[4],[5],[6],[7],[8],[9],[10],[11],[12],[13],[14],[15]]  # X (independent variable Hours Study)\n",
    "y = [30,40,42,45,46,47,47,48,55,57,60,62,70,72,74] # Y (dependent variable Marks scored)\n"
   ]
  },
  {
   "cell_type": "code",
   "execution_count": null,
   "id": "9e80d12c",
   "metadata": {},
   "outputs": [],
   "source": [
    "x_temp, x_test, y_temp, y_test = train_test_split(x,y,test_size=0.2,random_state=42)"
   ]
  },
  {
   "cell_type": "code",
   "execution_count": 16,
   "id": "d3f8fb8d",
   "metadata": {},
   "outputs": [],
   "source": [
    "x_train,x_val,y_train,y_val = train_test_split(x_temp,y_temp,test_size=0.25,random_state=42)"
   ]
  },
  {
   "cell_type": "code",
   "execution_count": 17,
   "id": "c69803e2",
   "metadata": {},
   "outputs": [
    {
     "name": "stdout",
     "output_type": "stream",
     "text": [
      "Training set x:\n",
      " [[11], [15], [9], [6], [7], [2], [8], [3], [5]]\n"
     ]
    }
   ],
   "source": [
    "print(\"Training set x:\\n\",x_train)"
   ]
  },
  {
   "cell_type": "code",
   "execution_count": 18,
   "id": "69dde91c",
   "metadata": {},
   "outputs": [
    {
     "name": "stdout",
     "output_type": "stream",
     "text": [
      "Training set y\n",
      " [60, 74, 55, 47, 47, 40, 48, 42, 46]\n"
     ]
    }
   ],
   "source": [
    "print(\"Training set y\\n\",y_train)"
   ]
  },
  {
   "cell_type": "code",
   "execution_count": 19,
   "id": "785420ba",
   "metadata": {},
   "outputs": [
    {
     "name": "stdout",
     "output_type": "stream",
     "text": [
      "Validation set\n",
      " [[4], [13], [14]]\n"
     ]
    }
   ],
   "source": [
    "print(\"Validation set\\n\",x_val)"
   ]
  },
  {
   "cell_type": "code",
   "execution_count": 20,
   "id": "ff66077c",
   "metadata": {},
   "outputs": [
    {
     "name": "stdout",
     "output_type": "stream",
     "text": [
      "Validation set\n",
      " [45, 70, 72]\n"
     ]
    }
   ],
   "source": [
    "print(\"Validation set\\n\",y_val)"
   ]
  },
  {
   "cell_type": "code",
   "execution_count": 21,
   "id": "0af744ca",
   "metadata": {},
   "outputs": [
    {
     "name": "stdout",
     "output_type": "stream",
     "text": [
      "Testing set x\n",
      " [[10], [12], [1]]\n"
     ]
    }
   ],
   "source": [
    "print(\"Testing set x\\n\",x_test)"
   ]
  },
  {
   "cell_type": "code",
   "execution_count": 22,
   "id": "baf1b6d6",
   "metadata": {},
   "outputs": [
    {
     "name": "stdout",
     "output_type": "stream",
     "text": [
      "Testing set y\n",
      " [57, 62, 30]\n"
     ]
    }
   ],
   "source": [
    "print(\"Testing set y\\n\",y_test)"
   ]
  },
  {
   "cell_type": "code",
   "execution_count": null,
   "id": "f3c61d79",
   "metadata": {},
   "outputs": [],
   "source": []
  }
 ],
 "metadata": {
  "kernelspec": {
   "display_name": "Python 3",
   "language": "python",
   "name": "python3"
  },
  "language_info": {
   "codemirror_mode": {
    "name": "ipython",
    "version": 3
   },
   "file_extension": ".py",
   "mimetype": "text/x-python",
   "name": "python",
   "nbconvert_exporter": "python",
   "pygments_lexer": "ipython3",
   "version": "3.9.0"
  }
 },
 "nbformat": 4,
 "nbformat_minor": 5
}
