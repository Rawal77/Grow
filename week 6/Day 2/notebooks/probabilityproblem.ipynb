{
 "cells": [
  {
   "cell_type": "markdown",
   "id": "6c57d249",
   "metadata": {},
   "source": [
    "### Implementing Probability using python"
   ]
  },
  {
   "cell_type": "code",
   "execution_count": 2,
   "id": "e657480f",
   "metadata": {},
   "outputs": [],
   "source": [
    "import numpy as np \n",
    "import matplotlib.pyplot as plt "
   ]
  },
  {
   "cell_type": "code",
   "execution_count": 7,
   "id": "e90d2de3",
   "metadata": {},
   "outputs": [
    {
     "name": "stdout",
     "output_type": "stream",
     "text": [
      "Estimated Probability of Heads: 0.5170\n"
     ]
    }
   ],
   "source": [
    "# 0 = Tails 1 = Heads\n",
    "\n",
    "n_tossess = 1000\n",
    "coin_tossess = np.random.choice([0,1],size=n_tossess)\n",
    "\n",
    "# Count frequency of Heads (1)\n",
    "heads_count = np.sum(coin_tossess == 1)\n",
    "estimated_prob_heads = heads_count / n_tossess\n",
    "\n",
    "print(f\"Estimated Probability of Heads: {estimated_prob_heads:.4f}\")"
   ]
  },
  {
   "cell_type": "code",
   "execution_count": 8,
   "id": "e433d498",
   "metadata": {},
   "outputs": [
    {
     "name": "stdout",
     "output_type": "stream",
     "text": [
      "Estimated Probability of rolling a 6: 0.1683\n"
     ]
    }
   ],
   "source": [
    "n_rolls = 10000\n",
    "die_rolls = np.random.choice([1, 2, 3, 4, 5, 6], size=n_rolls)\n",
    "\n",
    "# Count frequency of 6\n",
    "six_count = np.sum(die_rolls == 6)\n",
    "estimated_prob_six = six_count / n_rolls\n",
    "\n",
    "print(f\"Estimated Probability of rolling a 6: {estimated_prob_six:.4f}\")"
   ]
  },
  {
   "cell_type": "code",
   "execution_count": 9,
   "id": "9ddaf5e7",
   "metadata": {},
   "outputs": [],
   "source": [
    "from scipy.stats import binom, norm, poisson"
   ]
  },
  {
   "cell_type": "code",
   "execution_count": null,
   "id": "f460e2af",
   "metadata": {},
   "outputs": [
    {
     "name": "stdout",
     "output_type": "stream",
     "text": [
      "Probability of exactly 6 heads in 10 tosses: 0.2051\n"
     ]
    }
   ],
   "source": [
    "# n = 10 trials, p = 0.5 success probability   Binomial Distribution\n",
    "prob_6_heads = binom.pmf(k=6, n=10, p=0.5)\n",
    "print(f\"Probability of exactly 6 heads in 10 tosses: {prob_6_heads:.4f}\")"
   ]
  },
  {
   "cell_type": "code",
   "execution_count": null,
   "id": "d05101a3",
   "metadata": {},
   "outputs": [
    {
     "name": "stdout",
     "output_type": "stream",
     "text": [
      "P(Height > 180 cm): 0.3085\n"
     ]
    }
   ],
   "source": [
    "# Mean = 175, SD = 10   Normal Distribution\n",
    "prob_taller_than_180 = 1 - norm.cdf(180, loc=175, scale=10)\n",
    "print(f\"P(Height > 180 cm): {prob_taller_than_180:.4f}\")"
   ]
  },
  {
   "cell_type": "code",
   "execution_count": 12,
   "id": "b8ad83a2",
   "metadata": {},
   "outputs": [
    {
     "name": "stdout",
     "output_type": "stream",
     "text": [
      "Probability of getting exactly 2 calls: 0.1465\n"
     ]
    }
   ],
   "source": [
    "# λ = 4  Poisson Distribution\n",
    "prob_2_calls = poisson.pmf(k=2, mu=4)\n",
    "print(f\"Probability of getting exactly 2 calls: {prob_2_calls:.4f}\")"
   ]
  },
  {
   "cell_type": "code",
   "execution_count": null,
   "id": "c1b4dcb3",
   "metadata": {},
   "outputs": [],
   "source": []
  }
 ],
 "metadata": {
  "kernelspec": {
   "display_name": "Python 3",
   "language": "python",
   "name": "python3"
  },
  "language_info": {
   "codemirror_mode": {
    "name": "ipython",
    "version": 3
   },
   "file_extension": ".py",
   "mimetype": "text/x-python",
   "name": "python",
   "nbconvert_exporter": "python",
   "pygments_lexer": "ipython3",
   "version": "3.9.0"
  }
 },
 "nbformat": 4,
 "nbformat_minor": 5
}
