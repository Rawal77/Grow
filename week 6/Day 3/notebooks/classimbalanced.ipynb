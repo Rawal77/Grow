{
 "cells": [
  {
   "cell_type": "markdown",
   "id": "a90f2076",
   "metadata": {},
   "source": [
    "### Titanic Dataset"
   ]
  },
  {
   "cell_type": "code",
   "execution_count": 1,
   "id": "7d8d99f0",
   "metadata": {},
   "outputs": [],
   "source": [
    "import pandas as pd\n",
    "from sklearn.model_selection import train_test_split\n",
    "import numpy as np\n",
    "import scipy.stats as stats\n",
    "import seaborn as sns"
   ]
  },
  {
   "cell_type": "code",
   "execution_count": 2,
   "id": "d084b2f8",
   "metadata": {},
   "outputs": [],
   "source": [
    "titanic = sns.load_dataset('titanic')"
   ]
  },
  {
   "cell_type": "code",
   "execution_count": null,
   "id": "cd6de9f1",
   "metadata": {},
   "outputs": [
    {
     "name": "stdout",
     "output_type": "stream",
     "text": [
      "survived\n",
      "0    0.616162\n",
      "1    0.383838\n",
      "Name: proportion, dtype: float64\n"
     ]
    }
   ],
   "source": [
    "print(titanic['survived'].value_counts(normalize=True))"
   ]
  },
  {
   "cell_type": "code",
   "execution_count": 4,
   "id": "99c98ad9",
   "metadata": {},
   "outputs": [
    {
     "name": "stdout",
     "output_type": "stream",
     "text": [
      "\n",
      "Sample size 30 class distribution:\n",
      "survived\n",
      "0    0.6\n",
      "1    0.4\n",
      "Name: proportion, dtype: float64\n",
      "\n",
      "Sample size 100 class distribution:\n",
      "survived\n",
      "0    0.62\n",
      "1    0.38\n",
      "Name: proportion, dtype: float64\n",
      "\n",
      "Sample size 300 class distribution:\n",
      "survived\n",
      "0    0.616667\n",
      "1    0.383333\n",
      "Name: proportion, dtype: float64\n"
     ]
    }
   ],
   "source": [
    "# Stratified Sampling on survived\n",
    "\n",
    "sample_sizes = [30, 100, 300]\n",
    "samples = {}\n",
    "\n",
    "for size in sample_sizes:\n",
    "    # stratified split to get sample of required size\n",
    "    _, sample = train_test_split(\n",
    "        titanic,\n",
    "        test_size=size,\n",
    "        stratify=titanic['survived'],\n",
    "        random_state=42\n",
    "    )\n",
    "    samples[size] = sample\n",
    "    print(f\"\\nSample size {size} class distribution:\")\n",
    "    print(sample['survived'].value_counts(normalize=True))\n"
   ]
  },
  {
   "cell_type": "code",
   "execution_count": 5,
   "id": "56f9fd59",
   "metadata": {},
   "outputs": [
    {
     "name": "stdout",
     "output_type": "stream",
     "text": [
      "\n",
      "Sample size: 30\n",
      "Survival proportion: 0.400\n",
      "95% Confidence Interval: (0.225, 0.575)\n",
      "Width of Confidence Interval: 0.351\n",
      "\n",
      "Sample size: 100\n",
      "Survival proportion: 0.380\n",
      "95% Confidence Interval: (0.285, 0.475)\n",
      "Width of Confidence Interval: 0.190\n",
      "\n",
      "Sample size: 300\n",
      "Survival proportion: 0.383\n",
      "95% Confidence Interval: (0.328, 0.438)\n",
      "Width of Confidence Interval: 0.110\n"
     ]
    }
   ],
   "source": [
    "# Confidence Intervals for survival rate in each sample\n",
    "\n",
    "def proportion_confidence_interval(successes, n, confidence=0.95):\n",
    "    p = successes / n\n",
    "    z = stats.norm.ppf(1 - (1 - confidence) / 2)\n",
    "    SE = np.sqrt(p * (1 - p) / n)\n",
    "    ME = z * SE\n",
    "    return p, p - ME, p + ME\n",
    "\n",
    "for size, sample in samples.items():\n",
    "    n = len(sample)\n",
    "    successes = sample['survived'].sum()  # count of survived=1\n",
    "    p, lower, upper = proportion_confidence_interval(successes, n)\n",
    "    width = upper - lower\n",
    "    print(f\"\\nSample size: {size}\")\n",
    "    print(f\"Survival proportion: {p:.3f}\")\n",
    "    print(f\"95% Confidence Interval: ({lower:.3f}, {upper:.3f})\")\n",
    "    print(f\"Width of Confidence Interval: {width:.3f}\")\n"
   ]
  },
  {
   "cell_type": "code",
   "execution_count": null,
   "id": "97671965",
   "metadata": {},
   "outputs": [],
   "source": []
  }
 ],
 "metadata": {
  "kernelspec": {
   "display_name": "Python 3",
   "language": "python",
   "name": "python3"
  },
  "language_info": {
   "codemirror_mode": {
    "name": "ipython",
    "version": 3
   },
   "file_extension": ".py",
   "mimetype": "text/x-python",
   "name": "python",
   "nbconvert_exporter": "python",
   "pygments_lexer": "ipython3",
   "version": "3.9.0"
  }
 },
 "nbformat": 4,
 "nbformat_minor": 5
}
