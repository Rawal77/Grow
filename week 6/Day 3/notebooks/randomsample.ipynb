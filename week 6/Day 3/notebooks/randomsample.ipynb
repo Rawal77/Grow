{
 "cells": [
  {
   "cell_type": "markdown",
   "id": "8700255f",
   "metadata": {},
   "source": [
    "### Random Sample"
   ]
  },
  {
   "cell_type": "code",
   "execution_count": 10,
   "id": "3043eb67",
   "metadata": {},
   "outputs": [],
   "source": [
    "import pandas as pd \n",
    "import numpy as np"
   ]
  },
  {
   "cell_type": "code",
   "execution_count": 11,
   "id": "1f13350d",
   "metadata": {},
   "outputs": [],
   "source": [
    "# Seed for reproducibility\n",
    "np.random.seed(42)\n",
    "\n",
    "# Create synthetic dataset\n",
    "data = pd.DataFrame({\n",
    "    'Feature1': np.random.randn(1000)  # Numerical column with 1000 values\n",
    "})"
   ]
  },
  {
   "cell_type": "code",
   "execution_count": 12,
   "id": "245fe96a",
   "metadata": {},
   "outputs": [],
   "source": [
    "sample_size = 50\n",
    "num_samples = 30\n",
    "sample_means = []\n"
   ]
  },
  {
   "cell_type": "code",
   "execution_count": null,
   "id": "70b64f5a",
   "metadata": {},
   "outputs": [
    {
     "name": "stdout",
     "output_type": "stream",
     "text": [
      "Sample means from 30 random samples of size 50:\n",
      "[-0.06915846  0.05697713  0.05194978 -0.11546868  0.08477218 -0.04755877\n",
      " -0.07701154 -0.02993569 -0.02420762  0.05866208 -0.13200259  0.1717465\n",
      " -0.03215476  0.17789881 -0.27761648  0.00833784 -0.00427822  0.12456026\n",
      "  0.09200764 -0.30910712 -0.01955717  0.22277221 -0.05842065 -0.20561278\n",
      "  0.10281462  0.26091617 -0.02716918  0.21228959 -0.00209343  0.2051141 ]\n"
     ]
    }
   ],
   "source": [
    "for i in range(num_samples):\n",
    "    sample = data['Feature1'].sample(n=sample_size, replace=False, random_state=42+i)\n",
    "    mean_val = sample.mean()\n",
    "    sample_means.append(mean_val)\n",
    "\n",
    "# Convert to a numpy array for convenience\n",
    "sample_means = np.array(sample_means)\n",
    "\n",
    "print(\"Sample means from 30 random samples of size 50:\")\n",
    "print(sample_means)\n"
   ]
  },
  {
   "cell_type": "code",
   "execution_count": null,
   "id": "20f1ed4a",
   "metadata": {},
   "outputs": [
    {
     "name": "stdout",
     "output_type": "stream",
     "text": [
      "0.20511410089170493\n"
     ]
    }
   ],
   "source": [
    "print(mean_val)"
   ]
  },
  {
   "cell_type": "code",
   "execution_count": null,
   "id": "0e66c8a3",
   "metadata": {},
   "outputs": [],
   "source": []
  }
 ],
 "metadata": {
  "kernelspec": {
   "display_name": "Python 3",
   "language": "python",
   "name": "python3"
  },
  "language_info": {
   "codemirror_mode": {
    "name": "ipython",
    "version": 3
   },
   "file_extension": ".py",
   "mimetype": "text/x-python",
   "name": "python",
   "nbconvert_exporter": "python",
   "pygments_lexer": "ipython3",
   "version": "3.9.0"
  }
 },
 "nbformat": 4,
 "nbformat_minor": 5
}
