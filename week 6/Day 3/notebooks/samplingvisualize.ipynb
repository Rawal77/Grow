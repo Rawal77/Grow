{
 "cells": [
  {
   "cell_type": "markdown",
   "id": "bb6c49b2",
   "metadata": {},
   "source": [
    "### Sampling visualization"
   ]
  },
  {
   "cell_type": "code",
   "execution_count": 2,
   "id": "5d6b34a5",
   "metadata": {},
   "outputs": [],
   "source": [
    "import pandas as pd\n",
    "import numpy as np\n"
   ]
  },
  {
   "cell_type": "code",
   "execution_count": 5,
   "id": "27b5e8a3",
   "metadata": {},
   "outputs": [
    {
     "name": "stdout",
     "output_type": "stream",
     "text": [
      "Category\n",
      "A    699\n",
      "B    209\n",
      "C     92\n",
      "Name: count, dtype: int64\n"
     ]
    }
   ],
   "source": [
    "# Seed for reproducibility\n",
    "np.random.seed(42)\n",
    "\n",
    "# Create a dataset of 1000 entries\n",
    "data = pd.DataFrame({\n",
    "    'ID': range(1, 1001),\n",
    "    'Feature1': np.random.randn(1000),  # Some numerical feature\n",
    "    'Category': np.random.choice(['A', 'B', 'C'], size=1000, p=[0.7, 0.2, 0.1])  # Imbalanced classes\n",
    "})\n",
    "\n",
    "print(data['Category'].value_counts())"
   ]
  },
  {
   "cell_type": "code",
   "execution_count": 6,
   "id": "910b9d18",
   "metadata": {},
   "outputs": [
    {
     "name": "stdout",
     "output_type": "stream",
     "text": [
      "Category\n",
      "A    0.75\n",
      "B    0.15\n",
      "C    0.10\n",
      "Name: proportion, dtype: float64\n"
     ]
    }
   ],
   "source": [
    "#  Random Sampling\n",
    "\n",
    "random_sample = data.sample(n=100, random_state=42)\n",
    "print(random_sample['Category'].value_counts(normalize=True))"
   ]
  },
  {
   "cell_type": "code",
   "execution_count": 7,
   "id": "f016e0fc",
   "metadata": {},
   "outputs": [
    {
     "name": "stdout",
     "output_type": "stream",
     "text": [
      "Category\n",
      "A    0.70\n",
      "B    0.21\n",
      "C    0.09\n",
      "Name: proportion, dtype: float64\n"
     ]
    }
   ],
   "source": [
    "# Stratified Sampling\n",
    "\n",
    "from sklearn.model_selection import train_test_split\n",
    "\n",
    "# Stratified sampling by splitting data while preserving Category distribution\n",
    "_, stratified_sample = train_test_split(\n",
    "    data,\n",
    "    test_size=0.1,  # 10% sample\n",
    "    stratify=data['Category'],\n",
    "    random_state=42\n",
    ")\n",
    "\n",
    "print(stratified_sample['Category'].value_counts(normalize=True))\n"
   ]
  },
  {
   "cell_type": "code",
   "execution_count": 8,
   "id": "ea24c23b",
   "metadata": {},
   "outputs": [
    {
     "name": "stdout",
     "output_type": "stream",
     "text": [
      "Category\n",
      "A    0.69\n",
      "B    0.23\n",
      "C    0.08\n",
      "Name: proportion, dtype: float64\n"
     ]
    }
   ],
   "source": [
    "# Systematic Sampling\n",
    "\n",
    "k = 10  # Sample every 10th entry\n",
    "start = np.random.randint(0, k)\n",
    "systematic_sample = data.iloc[start::k]\n",
    "\n",
    "print(systematic_sample['Category'].value_counts(normalize=True))"
   ]
  },
  {
   "cell_type": "code",
   "execution_count": null,
   "id": "98842733",
   "metadata": {},
   "outputs": [],
   "source": []
  }
 ],
 "metadata": {
  "kernelspec": {
   "display_name": "Python 3",
   "language": "python",
   "name": "python3"
  },
  "language_info": {
   "codemirror_mode": {
    "name": "ipython",
    "version": 3
   },
   "file_extension": ".py",
   "mimetype": "text/x-python",
   "name": "python",
   "nbconvert_exporter": "python",
   "pygments_lexer": "ipython3",
   "version": "3.9.0"
  }
 },
 "nbformat": 4,
 "nbformat_minor": 5
}
