{
 "cells": [
  {
   "cell_type": "markdown",
   "id": "b8d774ae",
   "metadata": {},
   "source": [
    "### Working in Statistics"
   ]
  },
  {
   "cell_type": "code",
   "execution_count": 2,
   "id": "b309a3ab",
   "metadata": {},
   "outputs": [],
   "source": [
    "import pandas as pd\n",
    "import numpy as np\n",
    "import seaborn as sns\n",
    "import matplotlib.pyplot as plt"
   ]
  },
  {
   "cell_type": "code",
   "execution_count": 3,
   "id": "60d3e2b3",
   "metadata": {},
   "outputs": [],
   "source": [
    "df = sns.load_dataset('tips')"
   ]
  },
  {
   "cell_type": "code",
   "execution_count": 4,
   "id": "82e830cb",
   "metadata": {},
   "outputs": [],
   "source": [
    "data = df['total_bill']"
   ]
  },
  {
   "cell_type": "code",
   "execution_count": null,
   "id": "c978b007",
   "metadata": {},
   "outputs": [],
   "source": [
    "mean_val = np.mean(data)\n",
    "median_val = np.median(data)\n",
    "mode_val = data.mode().iloc[0] \n",
    "variance_val = np.var(data, ddof=0)  \n",
    "std_dev_val = np.std(data, ddof=0) "
   ]
  },
  {
   "cell_type": "code",
   "execution_count": 6,
   "id": "68de64c0",
   "metadata": {},
   "outputs": [],
   "source": [
    "# Summary \n",
    "summary_stats = {\n",
    "    'Mean': mean_val,\n",
    "    'Median': median_val,\n",
    "    'Mode': mode_val,\n",
    "    'Variance': variance_val,\n",
    "    'Standard Deviation': std_dev_val\n",
    "}\n"
   ]
  },
  {
   "cell_type": "code",
   "execution_count": 7,
   "id": "5ec722ae",
   "metadata": {},
   "outputs": [
    {
     "data": {
      "text/plain": [
       "<Figure size 1200x500 with 0 Axes>"
      ]
     },
     "execution_count": 7,
     "metadata": {},
     "output_type": "execute_result"
    },
    {
     "data": {
      "text/plain": [
       "<Figure size 1200x500 with 0 Axes>"
      ]
     },
     "metadata": {},
     "output_type": "display_data"
    }
   ],
   "source": [
    "plt.figure(figsize=(12, 5))"
   ]
  },
  {
   "cell_type": "code",
   "execution_count": 8,
   "id": "6b54551a",
   "metadata": {},
   "outputs": [
    {
     "data": {
      "text/plain": [
       "Text(0, 0.5, 'Frequency')"
      ]
     },
     "execution_count": 8,
     "metadata": {},
     "output_type": "execute_result"
    },
    {
     "data": {
      "image/png": "[encoded data removed]",
      "text/plain": [
       "<Figure size 640x480 with 1 Axes>"
      ]
     },
     "metadata": {},
     "output_type": "display_data"
    }
   ],
   "source": [
    "# Histogram\n",
    "plt.subplot(1, 2, 1)\n",
    "sns.histplot(data, kde=True, bins=20, color='skyblue')\n",
    "plt.title('Histogram of Total Bill')\n",
    "plt.xlabel('Total Bill')\n",
    "plt.ylabel('Frequency')"
   ]
  },
  {
   "cell_type": "code",
   "execution_count": 9,
   "id": "f7b5a6c7",
   "metadata": {},
   "outputs": [
    {
     "data": {
      "image/png": "[encoded data removed]",
      "text/plain": [
       "<Figure size 640x480 with 1 Axes>"
      ]
     },
     "metadata": {},
     "output_type": "display_data"
    }
   ],
   "source": [
    "# Boxplot\n",
    "plt.subplot(1, 2, 2)\n",
    "sns.boxplot(x=data, color='lightgreen')\n",
    "plt.title('Boxplot of Total Bill')\n",
    "\n",
    "plt.tight_layout()\n",
    "plt.show()"
   ]
  },
  {
   "cell_type": "code",
   "execution_count": 10,
   "id": "d107109d",
   "metadata": {},
   "outputs": [
    {
     "data": {
      "application/vnd.microsoft.datawrangler.viewer.v0+json": {
       "columns": [
        {
         "name": "index",
         "rawType": "int64",
         "type": "integer"
        },
        {
         "name": "Mean",
         "rawType": "float64",
         "type": "float"
        },
        {
         "name": "Median",
         "rawType": "float64",
         "type": "float"
        },
        {
         "name": "Mode",
         "rawType": "float64",
         "type": "float"
        },
        {
         "name": "Variance",
         "rawType": "float64",
         "type": "float"
        },
        {
         "name": "Standard Deviation",
         "rawType": "float64",
         "type": "float"
        }
       ],
       "ref": "270ff37d-8a9b-40c5-89e6-b4fa175b7ff4",
       "rows": [
        [
         "0",
         "19.78594262295082",
         "17.795",
         "13.42",
         "78.92813148851114",
         "8.884150577771132"
        ]
       ],
       "shape": {
        "columns": 5,
        "rows": 1
       }
      },
      "text/html": [
       "<div>\n",
       "<style scoped>\n",
       "    .dataframe tbody tr th:only-of-type {\n",
       "        vertical-align: middle;\n",
       "    }\n",
       "\n",
       "    .dataframe tbody tr th {\n",
       "        vertical-align: top;\n",
       "    }\n",
       "\n",
       "    .dataframe thead th {\n",
       "        text-align: right;\n",
       "    }\n",
       "</style>\n",
       "<table border=\"1\" class=\"dataframe\">\n",
       "  <thead>\n",
       "    <tr style=\"text-align: right;\">\n",
       "      <th></th>\n",
       "      <th>Mean</th>\n",
       "      <th>Median</th>\n",
       "      <th>Mode</th>\n",
       "      <th>Variance</th>\n",
       "      <th>Standard Deviation</th>\n",
       "    </tr>\n",
       "  </thead>\n",
       "  <tbody>\n",
       "    <tr>\n",
       "      <th>0</th>\n",
       "      <td>19.785943</td>\n",
       "      <td>17.795</td>\n",
       "      <td>13.42</td>\n",
       "      <td>78.928131</td>\n",
       "      <td>8.884151</td>\n",
       "    </tr>\n",
       "  </tbody>\n",
       "</table>\n",
       "</div>"
      ],
      "text/plain": [
       "        Mean  Median   Mode   Variance  Standard Deviation\n",
       "0  19.785943  17.795  13.42  78.928131            8.884151"
      ]
     },
     "execution_count": 10,
     "metadata": {},
     "output_type": "execute_result"
    }
   ],
   "source": [
    "summary_stats_df = pd.DataFrame([summary_stats])\n",
    "summary_stats_df"
   ]
  },
  {
   "cell_type": "code",
   "execution_count": null,
   "id": "7f2f2749",
   "metadata": {},
   "outputs": [],
   "source": []
  }
 ],
 "metadata": {
  "kernelspec": {
   "display_name": "Python 3",
   "language": "python",
   "name": "python3"
  },
  "language_info": {
   "codemirror_mode": {
    "name": "ipython",
    "version": 3
   },
   "file_extension": ".py",
   "mimetype": "text/x-python",
   "name": "python",
   "nbconvert_exporter": "python",
   "pygments_lexer": "ipython3",
   "version": "3.9.0"
  }
 },
 "nbformat": 4,
 "nbformat_minor": 5
}
